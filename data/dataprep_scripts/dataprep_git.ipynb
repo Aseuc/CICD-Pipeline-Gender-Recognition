{
 "cells": [
  {
   "cell_type": "markdown",
   "metadata": {},
   "source": [
    "# 1. Importieren der benötigten Bibliotheken\n",
    "\n"
   ]
  },
  {
   "cell_type": "code",
<<<<<<< HEAD
   "execution_count": null,
=======
   "execution_count": 342,
>>>>>>> 5235d9f9e8209a415965fc6affb6de8e5311c408
   "metadata": {},
   "outputs": [],
   "source": [
    "import os\n",
    "import subprocess\n",
    "import pandas as pd\n",
    "import shutil\n",
    "import tqdm\n",
    "import glob\n",
    "import pytest\n",
    "import numpy as np\n",
    "import matplotlib.pyplot as plt\n",
    "import pandas as pd\n",
    "import matplotlib.pyplot as plt\n",
    "import matplotlib.image as mpimg\n",
    "from scipy.stats import shapiro\n",
    "import seaborn as sns\n",
    "from scipy.stats import shapiro, binom_test, kstest, uniform\n",
    "import numpy as np\n",
    "import pandas as pd\n",
    "import shutil\n",
    "import numpy as np\n",
    "import os\n",
    "import random\n",
    "\n",
    "import os\n",
    "import pandas as pd\n",
    "\n",
    "def keep_first_n_rows(csv_path, n=10):\n",
    "    # Lesen Sie die CSV-Datei\n",
    "    df = pd.read_csv(csv_path)\n",
    "\n",
    "    # Behalten Sie nur die ersten n Zeilen\n",
    "    df = df.head(n)\n",
    "\n",
    "    # Überschreiben Sie die CSV-Datei mit den ersten n Zeilen\n",
    "    df.to_csv(csv_path, index=False)\n",
    "\n",
    "\n",
    "keep_first_n_rows(\"../source_csv/list_attr_celeba.csv\")"
   ]
  },
  {
   "cell_type": "markdown",
   "metadata": {},
   "source": [
    "\n",
    "# 2. Datenpreparation für das ML-Modell\n"
   ]
  },
  {
   "cell_type": "markdown",
   "metadata": {},
   "source": [
    "## 2.1 Extrahieren der Bildpfade aus dem Ordner img_align_celeba \n",
    "##### Dies wird gemacht um die Pfade aus der Source-CSV: list_attr_celeba.csv in der Spalte image_id mit den richtigen Pfaden zu ersetzen. Somit sind die Pfade den Bildern richtig zugeordnet. "
   ]
  },
  {
   "cell_type": "markdown",
   "metadata": {},
   "source": [
    "# 2.1  Festlegung der benötigten Pfade"
   ]
  },
  {
   "cell_type": "code",
   "execution_count": null,
   "metadata": {},
   "outputs": [],
   "source": [
    "source_csv = \"data/source_csv/list_attr_celeba.csv\"\n",
    "csv_path=\"data/source_csv/list_attr_celeba.csv\"\n",
    "source_train_path = \"data/train-test-data/\"\n",
    "men_image_source_path_train = \"data/train-test-data/train/men\"\n",
    "women_image_source_path_train = \"data/train-test-data/train/women\"\n",
    "men_image_source_path_test = \"data/train-test-data/test/men\"\n",
    "women_image_source_path_test = \"data/train-test-data/test/women\"\n",
    "merged_csv_test = \"model/csv_sheets/merged_df_test.csv\"\n",
    "merged_csv_train = \"model/csv_sheets/merged_df_train.csv\"\n",
    "required_directories = [source_train_path, women_image_source_path_test,men_image_source_path_test,men_image_source_path_train,women_image_source_path_train]\n",
    "# Hauptpfad zu den Bildern\n",
    "base_path = \"data/img_align_celeba\"\n",
    "IDs = \"data/IDs\"\n",
    "id_column = 'image_id'\n",
    "image_folder = \"data/img_align_celeba\"\n",
    "total_images = 10\n",
    "male_csv = \"data/IDs/male_ids.csv\"\n",
    "female_csv = \"data/IDs/female_ids.csv\"\n",
    "os.makedirs(men_image_source_path_train, exist_ok=True)\n",
    "os.makedirs(women_image_source_path_train, exist_ok=True)\n",
    "os.makedirs(women_image_source_path_test,exist_ok=True)\n",
    "os.makedirs(men_image_source_path_test,exist_ok=True)\n",
    "os.makedirs(IDs,exist_ok=True)\n"
   ]
  },
  {
   "cell_type": "markdown",
   "metadata": {},
   "source": [
    "# 2.1 Extraktion und Speicherung der Dateinamen aus dem Bilddaten Quellordner in eine CSV-Datei"
   ]
  },
  {
   "cell_type": "code",
   "execution_count": null,
   "metadata": {},
   "outputs": [],
   "source": [
    "def save_filenames_to_csv(image_dir,csv_path, csv_name=f\"data/IDs/data-ids.csv\", id_column=\"image_id\"):\n",
    "    all_images = os.listdir(image_dir)\n",
    "    df = pd.read_csv(csv_path)\n",
    "    df = df[df[id_column].isin(all_images)]\n",
    "    df.to_csv(csv_name, index=False)\n",
    "    \n",
    "save_filenames_to_csv(\"data/img_align_celeba/\",csv_path=csv_path)\n"
   ]
  },
  {
   "cell_type": "markdown",
   "metadata": {},
   "source": [
    "# 2.2 Extraktion der IDs aus der Quell-CSV"
   ]
  },
  {
   "cell_type": "code",
   "execution_count": null,
   "metadata": {},
   "outputs": [],
   "source": [
    "def extract_all_ids(csv_path, column=\"Male\", id_column=\"image_id\"):\n",
    "    df = pd.read_csv(csv_path)\n",
    "    df[column] = df[column].replace(-1, 0)\n",
    "    df.to_csv(f'data/IDs/source_csv_all_ids.csv', columns=[id_column], index=False)\n",
    "    \n",
    "extract_all_ids(csv_path=csv_path)"
   ]
  },
  {
   "cell_type": "markdown",
   "metadata": {},
   "source": [
    "# 2.3 Überprüfung auf Vollständigkeit der Bilddaten durch den Vergleich der Dateinamen aus img_align_celeba und der IDs aus der Quell-CSV "
   ]
  },
  {
   "cell_type": "code",
   "execution_count": null,
   "metadata": {},
   "outputs": [],
   "source": [
    "def compare_columns(csv1, csv2):\n",
    "    df1 = pd.read_csv(csv1)\n",
    "    df2 = pd.read_csv(csv2)\n",
    "    column1 = df1.iloc[:, 0]\n",
    "    column2 = df2.iloc[:, 0]\n",
    "    is_equal = column1.equals(column2)\n",
    "    return is_equal\n",
    "\n",
    "if compare_columns(f'data/IDs/source_csv_all_ids.csv', f'data/IDs/data-ids.csv') == True: \n",
    "    print(\"::warning:: Daten sind vollständig! Die Bilddaten-IDs stimmen mit den IDs aus Attributliste überein! \")\n",
    "else: \n",
    "    print(\"::warning:: Daten sind unvollständig! Die Bilddaten-IDs stimmen nicht mit den IDs aus der Attributliste überein! \")\n"
   ]
  },
  {
   "cell_type": "markdown",
   "metadata": {},
   "source": [
    "# 2.3 Extraktion der IDs aus der Quell-CSV in Abhängigkeit der Spalte \"Male\""
   ]
  },
  {
   "cell_type": "code",
   "execution_count": null,
   "metadata": {},
   "outputs": [],
   "source": [
    "def extract_ids(csv_path, column=\"Male\", id_column=\"image_id\"):\n",
    "    df = pd.read_csv(csv_path)\n",
    "    df[column] = df[column].replace(-1, 0)\n",
    "    male_df = df[df[column] == 1]\n",
    "    female_df = df[df[column] == 0]\n",
    "    male_df.to_csv(f'data/IDs/male_ids.csv', columns=[id_column], index=False)\n",
    "    female_df.to_csv(f'data/IDs/female_ids.csv', columns=[id_column], index=False)\n",
    "    \n",
    "extract_ids(csv_path=csv_path)"
   ]
  },
  {
   "cell_type": "markdown",
   "metadata": {},
   "source": [
    "## Löschung von Bilddaten, falls Trainings- und Testordner bereits befüllt sind"
   ]
  },
  {
   "cell_type": "code",
   "execution_count": null,
   "metadata": {},
   "outputs": [],
   "source": [
    "\n",
    "def clear_directory(dir_path):\n",
    "    for filename in os.listdir(dir_path):\n",
    "        file_path = os.path.join(dir_path, filename)\n",
    "        try:\n",
    "            if os.path.isfile(file_path) or os.path.islink(file_path):\n",
    "                os.unlink(file_path)\n",
    "            elif os.path.isdir(file_path):\n",
    "                shutil.rmtree(file_path)\n",
    "        except Exception as e:\n",
    "            print('Failed to delete %s. Reason: %s' % (file_path, e))\n",
    "\n",
    "clear_directory(men_image_source_path_train)\n",
    "clear_directory(women_image_source_path_train)\n",
    "clear_directory(women_image_source_path_test)\n",
    "clear_directory(men_image_source_path_test)"
   ]
  },
  {
   "cell_type": "markdown",
   "metadata": {},
   "source": [
    "# 2.3 Verteilung der (neuen) Bilddaten in Trainings- und Testordner"
   ]
  },
  {
   "cell_type": "code",
   "execution_count": null,
   "metadata": {},
   "outputs": [],
   "source": [
    "def get_ids_from_csv(csv_file, id_column):\n",
    "    df = pd.read_csv(csv_file)\n",
    "    ids = df[id_column].tolist()\n",
    "    return ids\n",
    "\n",
    "\n",
    "\n",
    "def split_data_random(image_folder, male_csv, female_csv, total_images, id_column, train_ratio=0.7):\n",
    "    print(total_images)\n",
    "    male_ids = get_ids_from_csv(male_csv, id_column)\n",
    "    female_ids = get_ids_from_csv(female_csv, id_column)\n",
    "    \n",
    "   \n",
    "    num_train = int(total_images * train_ratio)\n",
    "    num_test = int(total_images - num_train)\n",
    "\n",
    "    test_ids_male = random.sample(male_ids, num_test // 2)\n",
    "    test_ids_female = random.sample(female_ids, num_test // 2)\n",
    "    test_ids = test_ids_male + test_ids_female\n",
    "   \n",
    "    train_ids_male = set(male_ids) - set(test_ids) \n",
    "    train_ids_female = set(female_ids) - set(test_ids)\n",
    "    male_ids = sorted(train_ids_male)\n",
    "    female_ids = sorted(train_ids_female)\n",
    "    female_ids = random.sample(female_ids,num_train//2)\n",
    "    male_ids = random.sample(male_ids,num_train//2)\n",
    "    \n",
    "    for id in test_ids_male:\n",
    "        shutil.copy(os.path.join(image_folder, id), men_image_source_path_test)\n",
    "    \n",
    "    for id in test_ids_female:\n",
    "        shutil.copy(os.path.join(image_folder, id), women_image_source_path_test)\n",
    "\n",
    "    for id in male_ids:\n",
    "        shutil.copy(os.path.join(image_folder, id), men_image_source_path_train)\n",
    "    \n",
    "    for id in female_ids:\n",
    "        shutil.copy(os.path.join(image_folder, id), women_image_source_path_train)\n",
    "\n",
    "split_data_random(image_folder, male_csv,female_csv,total_images, id_column)"
   ]
  },
  {
   "cell_type": "code",
   "execution_count": null,
   "metadata": {},
   "outputs": [],
   "source": [
    "\n",
    "\n",
    "# Erstellen der source.csv um automatisch die benötigten Spalten für die Visualisierung der Daten herauszuziehen.\n",
    "df = pd.read_csv(csv_path)\n",
    "df.to_csv(\"data/column_source_csv/source.csv\", index=False)\n",
    "\n",
    "# Extrahiert aus dem Source Pfad die Bildpfade\n",
    "def get_image_paths(source_path):\n",
    "    image_formats = ['*.jpg', '*.png', '*.gif', '*.jpeg']\n",
    "    image_paths = []\n",
    "    for format in image_formats:\n",
    "        image_paths.extend(glob.glob(os.path.join(source_path, format)))\n",
    "    return image_paths\n",
    "\n",
    "# Testet ob die Bilder in der CSV-Datei die richtigen Dateiendungen haben\n",
    "def test_image_extensions_in_csv(csv_path, column_name_of_image_paths=\"image_id\"):\n",
    "    df = pd.read_csv(csv_path)\n",
    "\n",
    "    # Überprüfe, ob alle Werte in der Spalte 'image_id' auf Bilddateien verweisen\n",
    "    valid_extensions = ['.jpg', '.jpeg', '.png', '.bmp', '.gif']\n",
    "    df['valid_extension'] = df[column_name_of_image_paths].apply(lambda x: os.path.splitext(x)[1].lower() in valid_extensions)\n",
    "\n",
    "    # Drucke die Zeilennummern mit ungültiger Dateierweiterung, wenn es welche gibt\n",
    "    invalid_rows = df[~df['valid_extension']].index\n",
    "    if len(invalid_rows) > 0:\n",
    "        print(f'Ungültige Dateierweiterungen gefunden in den Zeilen: {invalid_rows.tolist()}')\n",
    "\n",
    "    assert all(df['valid_extension']), f'Nicht alle Werte in der Spalte {column_name_of_image_paths} verweisen auf Bilddateien./n {invalid_rows} /n Überprüfe die Dateierweiterungen.'\n",
    "\n",
    "# Extrahieren der Bildpfade auf img_align_celeba\n",
    "image_paths_array = get_image_paths(base_path)\n",
    "\n",
    "# # Erstellen eines Dataframes mit der Source CSV \n",
    "# df = pd.read_csv(\"data/source_csv/list_attr_celeba.csv\")\n",
    "# df['image_id'] = df['image_id'].str.replace(\"C:/Users/busse/Bachelorarbeit/CICD-Pipeline-Gender-Recognition/\", \"\")\n",
    "# df.to_csv(\"data/source_csv/list_attr_celeba.csv\", index=False)"
   ]
  },
  {
   "cell_type": "markdown",
   "metadata": {},
   "source": [
    "## 2.2 Testen ob die Bildpfade in der CSV-Datei die richtige Dateiendung haben. "
   ]
  },
  {
   "cell_type": "code",
   "execution_count": null,
   "metadata": {},
   "outputs": [],
   "source": [
    "test_image_extensions_in_csv(csv_path=csv_path, column_name_of_image_paths=\"image_id\")"
   ]
  },
  {
   "cell_type": "markdown",
   "metadata": {},
   "source": [
    "## 2.3 Überprüfen ob die source.csv im Dateiformat CSV ist. \n"
   ]
  },
  {
   "cell_type": "code",
   "execution_count": null,
   "metadata": {},
   "outputs": [],
   "source": [
    "def check_csv_extension(csv_path):\n",
    "    _, ext = os.path.splitext(csv_path)\n",
    "    assert ext.lower() == '.csv', f'Die Datei {csv_path} hat keine .csv Erweiterung'\n",
    "    \n",
    "check_csv_extension(csv_path)"
   ]
  },
  {
   "cell_type": "markdown",
   "metadata": {},
   "source": [
    "## 2.4 Überprüfen ob die benötigten Ordner vorhanden sind zum trainieren, testen, speichern der ML-Modelle"
   ]
  },
  {
   "cell_type": "code",
   "execution_count": null,
   "metadata": {},
   "outputs": [],
   "source": [
    "def check_required_directories_data_exists(directories):\n",
    "    for directory in directories:\n",
    "        assert os.path.isdir(directory), f'Das Verzeichnis {directory} existiert nicht'\n",
    "\n",
    "check_required_directories_data_exists(required_directories)"
   ]
  },
  {
   "cell_type": "markdown",
   "metadata": {},
   "source": [
    "# 3 Datenqualität testen"
   ]
  },
  {
   "cell_type": "markdown",
   "metadata": {},
   "source": [
    "## 3.1 Überprüfen ob Bilddateien fehlen, Duplicate vorhanden sind, Überprüfen ob die Bildpfade gültig sind in der CSV. "
   ]
  },
  {
   "cell_type": "code",
   "execution_count": null,
   "metadata": {},
   "outputs": [],
   "source": [
    "def test_quality_of_csv(csv_path,column_name_of_image_paths=\"image_id\"):\n",
    "    df = pd.read_csv(csv_path)\n",
    "\n",
    "    # Überprüfe auf fehlende Werte\n",
    "    assert df[column_name_of_image_paths].isnull().sum() == 0, f'Es gibt fehlende Werte in der Spalte {column_name_of_image_paths}'\n",
    "\n",
    "    # Überprüfe auf Duplikate\n",
    "    assert df.duplicated().sum() == 0, \"Es gibt Duplikate in der Daten\"\n",
    "    \n",
    "    # # Überprüfe, ob alle Werte in der Spalte 'image_id' gültige Bildpfade sind\n",
    "    # assert all(df[column_name_of_image_paths].apply(os.path.isfile)), f'Nicht alle Werte in der Spalte {column_name_of_image_paths} sind gültige Bildpfade./n {df[column_name_of_image_paths].sample(10)} /n Überprüfe, ob der Pfad vorhanden ist.' \n",
    "\n",
    "test_quality_of_csv(csv_path=csv_path, column_name_of_image_paths=df.columns[0])"
   ]
  },
  {
   "cell_type": "markdown",
   "metadata": {},
   "source": [
    "## 3.2 Überprüfen ob es in allen Spalten Werte gibt die null bzw. leer sind."
   ]
  },
  {
   "cell_type": "code",
   "execution_count": null,
   "metadata": {},
   "outputs": [],
   "source": [
    "def check_missing_values(csv_path):\n",
    "    df = pd.read_csv(csv_path)\n",
    "    missing_values = df.isnull().any()\n",
    "    \n",
    "    return missing_values\n",
    "\n",
    "check_missing_values(csv_path=csv_path)"
   ]
  },
  {
   "cell_type": "markdown",
   "metadata": {},
   "source": [
    "## 3.3 Überprüfen ob es Anomalien, Ausreißer gibt"
   ]
  },
  {
   "cell_type": "code",
   "execution_count": null,
   "metadata": {},
   "outputs": [],
   "source": [
    "def test_outliers_all_columns(csv_path):\n",
    "    df = pd.read_csv(csv_path)\n",
    "    for column_name in df.columns:\n",
    "        if np.issubdtype(df[column_name].dtype, np.number):  # Überprüfe, ob die Spalte numerisch ist\n",
    "            z_scores = np.abs((df[column_name] - df[column_name].mean()) / df[column_name].std())\n",
    "            if any(z_scores > 3):\n",
    "                print(f\"::warning::Es gibt Ausreißer in der Spalte '{column_name}'\")\n",
    "\n",
    "test_outliers_all_columns(csv_path=csv_path)"
   ]
  },
  {
   "cell_type": "markdown",
   "metadata": {},
   "source": [
    "## 3.4 Überprüfen ob die Daten ausgeglichen sind"
   ]
  },
  {
   "cell_type": "code",
   "execution_count": null,
   "metadata": {},
   "outputs": [],
   "source": [
    "def test_balance_all_columns(csv_path):\n",
    "    df = pd.read_csv(csv_path)\n",
    "    imbalance_report = []\n",
    "\n",
    "    for column_name in df.columns:\n",
    "        if np.issubdtype(df[column_name].dtype, np.number):  # Überprüfe, ob die Spalte numerisch ist\n",
    "            counts = df[column_name].value_counts()\n",
    "            if abs(counts.get(-1, 0) - counts.get(1, 0)) >= 0.1 * len(df):\n",
    "                imbalance_report.append(f\"Die Spalte '{column_name}' ist unausgeglichen. Anzahl von -1: {counts.get(-1, 0)}, Anzahl von 1: {counts.get(1, 0)}\")\n",
    "\n",
    "    if imbalance_report:\n",
    "        print(\"Es gibt unausgeglichene Spalten:/n\" + \"/n\".join(imbalance_report))\n",
    "\n",
    "def is_numeric(column):\n",
    "    try:\n",
    "        pd.to_numeric(column)\n",
    "        return True\n",
    "    except ValueError:\n",
    "        return False\n",
    "\n",
    "# Load your DataFrame\n",
    "df = pd.read_csv('data/column_source_csv/source.csv')\n",
    "\n",
    "# Filter the columns to only those with numeric data\n",
    "numeric_columns = [col for col in df.columns if is_numeric(df[col])]\n",
    "\n",
    "df = df[numeric_columns]\n",
    "df.to_csv(\"data/column_source_csv/source.csv\", index=False)\n",
    "\n",
    "\n",
    "\n",
    "def plot_balance_all_columns(csv_path):\n",
    "    df = pd.read_csv(csv_path)\n",
    "\n",
    "    for column_name in df.columns:\n",
    "        if np.issubdtype(df[column_name].dtype, np.number):  # Überprüfe, ob die Spalte numerisch ist\n",
    "            counts = df[column_name].value_counts()\n",
    "            counts.plot(kind='bar', title=f\"Verteilung der Werte in der Spalte '{column_name}'\")\n",
    "            plt.savefig(f\"data/plot_data/{column_name}.png\")\n",
    "            plt.show()\n",
    "            \n",
    "        \n",
    "test_balance_all_columns(csv_path=csv_path)\n",
    "plot_balance_all_columns(csv_path=csv_path)"
   ]
  },
  {
   "cell_type": "markdown",
   "metadata": {},
   "source": [
    "## 3.5 Datensatz auf Ausreißer überprüfen"
   ]
  },
  {
   "cell_type": "code",
   "execution_count": null,
   "metadata": {},
   "outputs": [],
   "source": [
    "def detect_all_outliers(df):\n",
    "    outliers_percentage = {}\n",
    "    \n",
    "    # Gehe durch jede Spalte im DataFrame\n",
    "    for column_name in df.columns:\n",
    "        # Überspringe nicht-numerische Spalten\n",
    "        if pd.api.types.is_numeric_dtype(df[column_name]):\n",
    "            # Berechne den IQR-Score\n",
    "            Q1 = df[column_name].quantile(0.25)\n",
    "            Q3 = df[column_name].quantile(0.75)\n",
    "            IQR = Q3 - Q1\n",
    "\n",
    "            # Definiere die Grenzen für Ausreißer\n",
    "            lower_bound = Q1 - 1.5 * IQR\n",
    "            upper_bound = Q3 + 1.5 * IQR\n",
    "\n",
    "            # Finde die Ausreißer\n",
    "            outliers = df[(df[column_name] < lower_bound) | (df[column_name] > upper_bound)]\n",
    "            \n",
    "            # Berechne den Prozentsatz der Ausreißer\n",
    "            outliers_percentage[column_name] = len(outliers) / len(df) * 100\n",
    "    \n",
    "    return outliers_percentage\n",
    "\n",
    "\n",
    "def detect_outliers(df, column_name):\n",
    "    # Berechne den IQR-Score\n",
    "    Q1 = df[column_name].quantile(0.25)\n",
    "    Q3 = df[column_name].quantile(0.75)\n",
    "    IQR = Q3 - Q1\n",
    "\n",
    "    # Definiere die Grenzen für Ausreißer\n",
    "    lower_bound = Q1 - 1.5 * IQR\n",
    "    upper_bound = Q3 + 1.5 * IQR\n",
    "\n",
    "    # Finde die Ausreißer\n",
    "    outliers = df[(df[column_name] < lower_bound) | (df[column_name] > upper_bound)]\n",
    "\n",
    "    return outliers\n",
    "\n",
    "\n",
    "df = pd.read_csv(csv_path)\n",
    "detect_all_outliers(df)"
   ]
  },
  {
   "cell_type": "markdown",
   "metadata": {},
   "source": [
    "# 4 Unausgeglichenheit der Daten von ein Paar Datensätzen auflösen um das Verhalten auf das ML-Modell zu beobachten"
   ]
  },
  {
   "cell_type": "markdown",
   "metadata": {},
   "source": [
    "## 4.1 Anpassen der Unausgeglichenheit zwischen Frauen und Mann Datensätzen"
   ]
  },
  {
   "cell_type": "code",
   "execution_count": null,
   "metadata": {},
   "outputs": [],
   "source": [
    "def plot_gender_histogram(df):\n",
    "    # Zähle die Anzahl von Frauen und Männern\n",
    "    counts = df['Male'].value_counts()\n",
    "\n",
    "    # Plotte die Daten\n",
    "    plt.bar(['Female', 'Male'], [counts[-1], counts[1]], color=['#ff69b4', '#1f77b4'])\n",
    "\n",
    "    # Schreibe Text auf die Balken\n",
    "    for i, v in enumerate([counts[-1], counts[1]]):\n",
    "        plt.text(i, v, str(v), fontsize=12, ha='center', va='bottom')\n",
    "\n",
    "    plt.xlabel('Gender')\n",
    "    plt.ylabel('Count')\n",
    "    plt.show()\n",
    "\n",
    "\n",
    "def balance_column(csv_path, column_name):\n",
    "    # Lade die CSV-Datei in einen DataFrame\n",
    "    df = pd.read_csv(csv_path)\n",
    "\n",
    "    # Zähle die Anzahl von -1 und 1\n",
    "    counts = df[column_name].value_counts()\n",
    "\n",
    "    # Finde den kleineren Wert\n",
    "    min_count = min(counts.get(-1, 0), counts.get(1, 0))\n",
    "\n",
    "    # Erstelle einen neuen DataFrame mit einer ausgeglichenen Anzahl von -1 und 1\n",
    "    df_balanced = pd.concat([\n",
    "        df[df[column_name] == -1].sample(min_count),\n",
    "        df[df[column_name] == 1].sample(min_count)\n",
    "    ], axis=0)\n",
    "\n",
    "    return df_balanced\n",
    "\n",
    "\n",
    "# Call the function with your csv file\n",
    "balanced_df = balance_column(source_csv, \"Male\")\n",
    "balanced_df.to_csv(\"data/balanced_source_csv/balanced_gender.csv\", index=False)\n",
    "\n",
    "balanced_csv_path =\"data/balanced_source_csv/balanced_gender.csv\"\n",
    "plot_gender_histogram(balanced_df)\n"
   ]
  },
  {
   "cell_type": "markdown",
   "metadata": {},
   "source": [
    "## 4.2 Unausgeglichenheit zwischen Jungen und Alten Personendatensätzen ausgleichen"
   ]
  },
  {
   "cell_type": "code",
   "execution_count": null,
   "metadata": {},
   "outputs": [],
   "source": [
    "def plot_young_histogram(df):\n",
    "    # Zähle die Anzahl von Frauen und Männern\n",
    "    counts = df[\"Young\"].value_counts()\n",
    "\n",
    "    # Plotte die Daten\n",
    "    plt.bar(['not Young', 'Young'], [counts[-1], counts[1]], color=['#ff69b4', '#1f77b4'])\n",
    "\n",
    "    # Schreibe Text auf die Balken\n",
    "    for i, v in enumerate([counts[-1], counts[1]]):\n",
    "        plt.text(i, v, str(v), fontsize=12, ha='center', va='bottom')\n",
    "    plt.title('Young oder nicht Young ohne Balanced Gender Data')\n",
    "    plt.xlabel('Young or not Young')\n",
    "    plt.ylabel('Count')\n",
    "    plt.show()\n",
    "\n",
    "young_balanced_csv = \"data/balanced_source_csv/balanced_young.csv\"\n",
    "df_young_balanced = balance_column(source_csv, \"Young\")\n",
    "df_young_balanced.to_csv(\"data/balanced_source_csv/balanced_young.csv\", index=False)\n",
    "df_young_balanced = pd.read_csv(young_balanced_csv)\n",
    "\n",
    "plot_young_histogram(df_young_balanced)\n",
    "\n"
   ]
  },
  {
   "cell_type": "markdown",
   "metadata": {},
   "source": [
    "# 5. Datenverteilung Testen"
   ]
  },
  {
   "cell_type": "markdown",
   "metadata": {},
   "source": [
    "## 5.1 Daten auf Normalverteilung testen"
   ]
  },
  {
   "cell_type": "code",
   "execution_count": null,
   "metadata": {},
   "outputs": [],
   "source": [
    "from scipy.stats import shapiro\n",
    "from scipy.stats import kstest, uniform\n",
    "import pandas as pd\n",
    "\n",
    "\n",
    "def test_normal_distribution(data, column_name):\n",
    "    # Führe den Shapiro-Wilk-Test durch\n",
    "    stat, p = shapiro(data)\n",
    "\n",
    "    # Überprüfe das Ergebnis\n",
    "    if p > 0.05:\n",
    "        result = f'::warning::Die Daten in der Spalte {column_name} folgen wahrscheinlich einer Normalverteilung.'\n",
    "    else:\n",
    "        result = f'::warning::Die Daten in der Spalte {column_name} folgen wahrscheinlich nicht einer Normalverteilung.'\n",
    "\n",
    "    with open(\"data/reports_data/norm_distribution.txt\", \"w\") as f:\n",
    "        f.write(result + \"\\n\")\n",
    "\n",
    "# Call the function with your data\n",
    "for column_name in df.columns:\n",
    "    if pd.api.types.is_numeric_dtype(df[column_name]):\n",
    "        test_normal_distribution(df[column_name], column_name)\n",
    "\n",
    "\n",
    "\n"
   ]
  },
  {
   "cell_type": "markdown",
   "metadata": {},
   "source": [
    "## 5.2 Daten auf Uniformverteilung/Gleichverteilung testen"
   ]
  },
  {
   "cell_type": "code",
   "execution_count": null,
   "metadata": {},
   "outputs": [],
   "source": [
    "def test_uniform_distribution(data, column_name):\n",
    "    # Generiere theoretische Werte für die Uniformverteilung\n",
    "    theoretical_values = uniform.rvs(size=len(data))\n",
    "\n",
    "    # Führe den KS-Test durch\n",
    "    stat, p = kstest(data, theoretical_values)\n",
    "\n",
    "    # Überprüfe das Ergebnis\n",
    "    if p > 0.05:\n",
    "        result = f'::warning::Die Daten in der Spalte {column_name} folgen wahrscheinlich einer Uniformverteilung.'\n",
    "    else:\n",
    "        result = f'::warning::Die Daten in der Spalte {column_name} wahrscheinlich nicht einer Uniformverteilung.'\n",
    "\n",
    "    with open(\"data/reports_data/uniform_distribution.txt\", \"w\") as f:\n",
    "        f.write(result)\n",
    "\n",
    "# Call the function with your data\n",
    "for column_name in df.columns:\n",
    "    if pd.api.types.is_numeric_dtype(df[column_name]):\n",
    "        test_uniform_distribution(df[column_name], column_name)"
   ]
  },
  {
   "cell_type": "markdown",
   "metadata": {},
   "source": [
    "## 5.3 Daten auf Binomialverteilung testen"
   ]
  },
  {
   "cell_type": "code",
   "execution_count": null,
   "metadata": {},
   "outputs": [],
   "source": [
    "import pandas as pd\n",
    "\n",
    "def test_bernoulli_distribution(data, column_name, p):\n",
    "    data = data.replace(-1, 0) \n",
    "    value_counts = data.value_counts() \n",
    "    observed_values = [value_counts.get(1, 0), value_counts.get(0, 0)]\n",
    "    n = len(data)\n",
    "\n",
    "    # Berechne die erwarteten Werte\n",
    "    expected_values = [n*p, n*(1-p)]\n",
    "\n",
    "    # Überprüfe, ob die beobachteten Werte den erwarteten Werten entsprechen\n",
    "    if abs(observed_values[0] - expected_values[0]) / n < 0.05 and abs(observed_values[1] - expected_values[1]) / n < 0.05:\n",
    "        result = f'Die Daten in der Spalte {column_name} folgen wahrscheinlich einer Binomial-Verteilung.'\n",
    "    else:\n",
    "        result = f'Die Daten in der Spalte {column_name} folgen wahrscheinlich nicht einer Binomial-Verteilung.'\n",
    "\n",
    "    with open(\"data/reports_data/binomial_distribution.txt\", \"w\") as f:\n",
    "        f.write(result)\n",
    "\n",
    "for column_name in df.columns:\n",
    "    if pd.api.types.is_numeric_dtype(df[column_name]):\n",
    "        test_bernoulli_distribution(df[column_name], column_name, p=0.5)"
   ]
  },
  {
   "cell_type": "markdown",
   "metadata": {},
   "source": [
    "## 5.4 Daten auf Exponentialverteilung testen"
   ]
  },
  {
   "cell_type": "code",
   "execution_count": null,
   "metadata": {},
   "outputs": [],
   "source": [
    "from scipy.stats import kstest\n",
    "\n",
    "def test_exponential_distribution(data, column_name):\n",
    "    stat, p_value = kstest(data, 'expon')\n",
    "    if p_value > 0.05:\n",
    "        result = f'Die Daten in der Spalte {column_name} folgen wahrscheinlich einer Exponentialverteilung.'\n",
    "    else:\n",
    "        result = f'Die Daten in der Spalte {column_name} folgen wahrscheinlich nicht einer Exponentialverteilung.'\n",
    "\n",
    "    with open(\"data/reports_data/exponential_distribution.txt\", \"w\") as f:\n",
    "        f.write(result)\n",
    "\n",
    "for column_name in df.columns:\n",
    "    if pd.api.types.is_numeric_dtype(df[column_name]):  \n",
    "        # Entfernen Sie nicht-numerische Werte\n",
    "        data = df[column_name].dropna()\n",
    "        test_exponential_distribution(data, column_name)"
   ]
  },
  {
   "cell_type": "markdown",
   "metadata": {},
   "source": [
    "# 6. Hier werden die Daten nun visualisiert. Dabei werden Datenvielfalt, Datenverteilung visualisiert. "
   ]
  },
  {
   "cell_type": "markdown",
   "metadata": {},
   "source": []
  },
  {
   "cell_type": "code",
   "execution_count": null,
   "metadata": {},
   "outputs": [],
   "source": [
    "def detect_outliers_iqr_all_columns(csv_path):\n",
    "    df = pd.read_csv(csv_path)\n",
    "    outliers_report = []\n",
    "\n",
    "    for column_name in df.columns:\n",
    "        if np.issubdtype(df[column_name].dtype, np.number):  # Überprüfe, ob die Spalte numerisch ist\n",
    "            Q1 = df[column_name].quantile(0.25)\n",
    "            Q3 = df[column_name].quantile(0.75)\n",
    "            IQR = Q3 - Q1\n",
    "            outliers = df[(df[column_name] < Q1 - 1.5 * IQR) | (df[column_name] > Q3 + 1.5 * IQR)]\n",
    "            if not outliers.empty:\n",
    "                outliers_report.append(f\"Die Spalte '{column_name}' hat Ausreißer. Anzahl: {len(outliers)}\")\n",
    "\n",
    "    return \"/n\".join(outliers_report)\n",
    "\n",
    "detect_outliers_iqr_all_columns(csv_path=csv_path)"
   ]
  },
  {
   "cell_type": "code",
   "execution_count": null,
   "metadata": {},
   "outputs": [],
   "source": [
    "def check_duplicates(csv_path):\n",
    "    df = pd.read_csv(csv_path)\n",
    "    duplicates = df.duplicated()\n",
    "    if duplicates.any():\n",
    "        print(f\"Es gibt {duplicates.sum()} Duplikate in den Daten.\")\n",
    "    else:\n",
    "        print(\"Es gibt keine Duplikate in den Daten.\")\n",
    "\n",
    "check_duplicates(csv_path=csv_path)"
   ]
  },
  {
   "cell_type": "code",
   "execution_count": null,
   "metadata": {},
   "outputs": [],
   "source": [
    "def check_null_values(csv_path):\n",
    "    df = pd.read_csv(csv_path)\n",
    "    null_values = df.isnull().sum()\n",
    "    if null_values.any():\n",
    "        print(f\"Es gibt Nullwerte in den Daten:\\n{null_values}\")\n",
    "    else:\n",
    "        print(\"Es gibt keine Nullwerte in den Daten.\")\n",
    "\n",
    "check_null_values(csv_path=csv_path)"
   ]
  }
 ],
 "metadata": {
  "kernelspec": {
   "display_name": "base",
   "language": "python",
   "name": "python3"
  },
  "language_info": {
   "codemirror_mode": {
    "name": "ipython",
    "version": 3
   },
   "file_extension": ".py",
   "mimetype": "text/x-python",
   "name": "python",
   "nbconvert_exporter": "python",
   "pygments_lexer": "ipython3",
   "version": "3.11.5"
  }
 },
 "nbformat": 4,
 "nbformat_minor": 2
}
