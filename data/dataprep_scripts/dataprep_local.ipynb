{
 "cells": [
  {
   "cell_type": "markdown",
   "metadata": {},
   "source": [
    "# 1. Importieren der benötigten Bibliotheken\n",
    "\n"
   ]
  },
  {
   "cell_type": "code",
   "execution_count": 2,
   "metadata": {},
   "outputs": [],
   "source": [
    "import os\n",
    "import subprocess\n",
    "import pandas as pd\n",
    "import shutil\n",
    "import tqdm\n",
    "import glob\n",
    "import pytest\n",
    "import numpy as np\n",
    "import matplotlib.pyplot as plt\n",
    "import pydqc.data_compare as dc \n",
    "from joblib import Parallel, delayed\n",
    "import pandas as pd\n",
    "import matplotlib.pyplot as plt\n",
    "import matplotlib.image as mpimg\n",
    "from scipy.stats import shapiro\n",
    "import seaborn as sns\n",
    "from scipy.stats import shapiro, binom_test, kstest, uniform\n",
    "import numpy as np\n"
   ]
  },
  {
   "cell_type": "markdown",
   "metadata": {},
   "source": [
    "\n",
    "# 2. Datenpreparation für das ML-Modell\n"
   ]
  },
  {
   "cell_type": "markdown",
   "metadata": {},
   "source": [
    "## 2.1 Extrahieren der Bildpfade aus dem Ordner img_align_celeba \n",
    "##### Dies wird gemacht um die Pfade aus der Source-CSV: list_attr_celeba.csv in der Spalte image_id mit den richtigen Pfaden zu ersetzen. Somit sind die Pfade den Bildern richtig zugeordnet. "
   ]
  },
  {
   "cell_type": "code",
   "execution_count": 3,
   "metadata": {},
   "outputs": [],
   "source": [
    "source_csv = r\"C:\\Users\\busse\\Bachelorarbeit\\CICD-Pipeline-Gender-Recognition\\data\\source_csv\\list_attr_celeba.csv\"\n",
    "csv_path=r\"C:\\Users\\busse\\Bachelorarbeit\\CICD-Pipeline-Gender-Recognition\\data\\local_image_path_Gender.csv\"\n",
    "source_train_path = r\"C:\\Users\\busse\\Bachelorarbeit\\CICD-Pipeline-Gender-Recognition\\data\\train\"\n",
    "men_image_source_path_train = r\"C:\\Users\\busse\\Bachelorarbeit\\CICD-Pipeline-Gender-Recognition\\data\\train\\men\"\n",
    "women_image_source_path_train = r\"C:\\Users\\busse\\Bachelorarbeit\\CICD-Pipeline-Gender-Recognition\\data\\train\\women\"\n",
    "men_image_source_path_test = r\"C:\\Users\\busse\\Bachelorarbeit\\CICD-Pipeline-Gender-Recognition\\data\\val\\men\"\n",
    "women_image_source_path_test = r\"C:\\Users\\busse\\Bachelorarbeit\\CICD-Pipeline-Gender-Recognition\\data\\val\\women\"\n",
    "merged_csv_test = r\"C:\\Users\\busse\\Bachelorarbeit\\CICD-Pipeline-Gender-Recognition\\model\\csv_sheets\\merged_df_test.csv\"\n",
    "merged_csv_train = r\"C:\\Users\\busse\\Bachelorarbeit\\CICD-Pipeline-Gender-Recognition\\model\\csv_sheets\\merged_df_train.csv\"\n",
    "required_directories = [source_train_path, women_image_source_path_test,men_image_source_path_test,men_image_source_path_train,women_image_source_path_train]\n",
    "\n",
    "df = pd.read_csv(source_csv)\n",
    "df.to_csv(\"source.csv\", index=False)\n",
    "\n",
    "# Hauptpfad zu den Bildern\n",
    "base_path = r\"C:\\Users\\busse\\Bachelorarbeit\\CICD-Pipeline-Gender-Recognition\\data\\img_align_celeba\"\n",
    "\n",
    "# Extrahiert aus dem Source Pfad die Bildpfade\n",
    "def get_image_paths(source_path):\n",
    "    image_formats = ['*.jpg', '*.png', '*.gif', '*.jpeg']\n",
    "    image_paths = []\n",
    "    for format in image_formats:\n",
    "        image_paths.extend(glob.glob(os.path.join(source_path, format)))\n",
    "    return image_paths\n",
    "\n",
    "# Testet ob die Bilder in der CSV-Datei die richtigen Dateiendungen haben\n",
    "def test_image_extensions_in_csv(csv_path, column_name_of_image_paths=\"image_id\"):\n",
    "    df = pd.read_csv(csv_path)\n",
    "\n",
    "    # Überprüfe, ob alle Werte in der Spalte 'image_id' auf Bilddateien verweisen\n",
    "    valid_extensions = ['.jpg', '.jpeg', '.png', '.bmp', '.gif']\n",
    "    df['valid_extension'] = df[column_name_of_image_paths].apply(lambda x: os.path.splitext(x)[1].lower() in valid_extensions)\n",
    "\n",
    "    # Drucke die Zeilennummern mit ungültiger Dateierweiterung, wenn es welche gibt\n",
    "    invalid_rows = df[~df['valid_extension']].index\n",
    "    if len(invalid_rows) > 0:\n",
    "        print(f'Ungültige Dateierweiterungen gefunden in den Zeilen: {invalid_rows.tolist()}')\n",
    "\n",
    "    assert all(df['valid_extension']), f'Nicht alle Werte in der Spalte {column_name_of_image_paths} verweisen auf Bilddateien.\\n {invalid_rows} \\n Überprüfe die Dateierweiterungen.'\n",
    "\n",
    "# Extrahieren der Bildpfade auf img_align_celeba\n",
    "image_paths_array = get_image_paths(base_path)\n",
    "\n",
    "# Erstellen eines Dataframes mit der Source CSV \n",
    "df = pd.read_csv(r\"C:\\Users\\busse\\Bachelorarbeit\\CICD-Pipeline-Gender-Recognition\\data\\source_csv\\list_attr_celeba.csv\")\n",
    "\n",
    "# Alte image_id Spalte löschen.\n",
    "df = df.drop(columns=[\"image_id\"])\n",
    "\n",
    "# Pfade aus image_id zu einer liste machen\n",
    "columns = df.columns.tolist()\n",
    "\n",
    "\n",
    "# base_path mit image_paths_array verbinden\n",
    "join = pd.Series(image_paths_array).apply(lambda x: os.path.join(base_path, x))\n",
    "\n",
    "\n",
    "df[\"image_id\"] = join\n",
    "\n",
    "\n",
    "# \\ durch / ersetzen damit die Pfade richtig angeben werden\n",
    "df['image_id'] = df['image_id'].str.replace(\"\\\\\", \"/\")\n",
    "\n",
    "# Get a list of the column names\n",
    "cols = df.columns.tolist()\n",
    "\n",
    "# Spalte image_id an den Anfang setzen\n",
    "cols.insert(0, cols.pop(cols.index('image_id')))\n",
    "\n",
    "# Reindexieren des Dataframes\n",
    "df = df.reindex(columns=cols)\n",
    "\n",
    "# Speichern der neuen CSV\n",
    "df.to_csv(r\"C:\\Users\\busse\\Bachelorarbeit\\CICD-Pipeline-Gender-Recognition\\data\\source_csv\\list_attr_celeba.csv\", index=False)"
   ]
  },
  {
   "cell_type": "markdown",
   "metadata": {},
   "source": [
    "## 2.2 Testen ob die Bildpfade in der CSV-Datei die richtige Dateiendung haben. "
   ]
  },
  {
   "cell_type": "code",
   "execution_count": 17,
   "metadata": {},
   "outputs": [],
   "source": [
    "csv_path = r\"C:\\Users\\busse\\Bachelorarbeit\\CICD-Pipeline-Gender-Recognition\\data\\source_csv\\list_attr_celeba.csv\"\n",
    "test_image_extensions_in_csv(csv_path=csv_path, column_name_of_image_paths=\"image_id\")"
   ]
  },
  {
   "cell_type": "markdown",
   "metadata": {},
   "source": [
    "## 2.3 Überprüfen ob die Source_CSV im Dateiformat CSV ist. \n"
   ]
  },
  {
   "cell_type": "code",
   "execution_count": 18,
   "metadata": {},
   "outputs": [],
   "source": [
    "def check_csv_extension(csv_path):\n",
    "    _, ext = os.path.splitext(csv_path)\n",
    "    assert ext.lower() == '.csv', f'Die Datei {csv_path} hat keine .csv Erweiterung'\n",
    "    \n",
    "check_csv_extension(csv_path)"
   ]
  },
  {
   "cell_type": "markdown",
   "metadata": {},
   "source": [
    "## 2.4 Überprüfen ob die benötigten Ordner vorhanden sind zum trainieren, testen, speichern der ML-Modelle"
   ]
  },
  {
   "cell_type": "code",
   "execution_count": 19,
   "metadata": {},
   "outputs": [],
   "source": [
    "def check_required_directories_data_exists(directories):\n",
    "    for directory in directories:\n",
    "        assert os.path.isdir(directory), f'Das Verzeichnis {directory} existiert nicht'\n",
    "\n",
    "check_required_directories_data_exists(required_directories)"
   ]
  },
  {
   "cell_type": "markdown",
   "metadata": {},
   "source": [
    "# 3 Datenqualität testen"
   ]
  },
  {
   "cell_type": "markdown",
   "metadata": {},
   "source": [
    "## 3.1 Überprüfen ob Bilddateien fehlen, Duplicate vorhanden sind, Überprüfen ob die Bildpfade gültig sind in der CSV. "
   ]
  },
  {
   "cell_type": "code",
   "execution_count": 20,
   "metadata": {},
   "outputs": [],
   "source": [
    "def test_quality_of_csv(csv_path,column_name_of_image_paths=\"image_id\"):\n",
    "    df = pd.read_csv(csv_path)\n",
    "\n",
    "    # Überprüfe auf fehlende Werte\n",
    "    assert df[column_name_of_image_paths].isnull().sum() == 0, f'Es gibt fehlende Werte in der Spalte {column_name_of_image_paths}'\n",
    "\n",
    "    # Überprüfe auf Duplikate\n",
    "    assert df.duplicated().sum() == 0, \"Es gibt Duplikate in der Daten\"\n",
    "    \n",
    "    # Überprüfe, ob alle Werte in der Spalte 'image_id' gültige Bildpfade sind\n",
    "    assert all(df[column_name_of_image_paths].apply(os.path.isfile)), f'Nicht alle Werte in der Spalte {column_name_of_image_paths} sind gültige Bildpfade.\\n {df[column_name_of_image_paths].sample(10)} \\n Überprüfe, ob der Pfad vorhanden ist.' \n",
    "\n",
    "test_quality_of_csv(source_csv, column_name_of_image_paths=df.columns[0])"
   ]
  },
  {
   "cell_type": "markdown",
   "metadata": {},
   "source": [
    "## 3.2 Überprüfen ob es in allen Spalten Werte gibt die null bzw. leer sind."
   ]
  },
  {
   "cell_type": "code",
   "execution_count": 21,
   "metadata": {},
   "outputs": [
    {
     "data": {
      "text/plain": [
       "image_id               False\n",
       "5_o_Clock_Shadow       False\n",
       "Arched_Eyebrows        False\n",
       "Attractive             False\n",
       "Bags_Under_Eyes        False\n",
       "Bald                   False\n",
       "Bangs                  False\n",
       "Big_Lips               False\n",
       "Big_Nose               False\n",
       "Black_Hair             False\n",
       "Blond_Hair             False\n",
       "Blurry                 False\n",
       "Brown_Hair             False\n",
       "Bushy_Eyebrows         False\n",
       "Chubby                 False\n",
       "Double_Chin            False\n",
       "Eyeglasses             False\n",
       "Goatee                 False\n",
       "Gray_Hair              False\n",
       "Heavy_Makeup           False\n",
       "High_Cheekbones        False\n",
       "Male                   False\n",
       "Mouth_Slightly_Open    False\n",
       "Mustache               False\n",
       "Narrow_Eyes            False\n",
       "No_Beard               False\n",
       "Oval_Face              False\n",
       "Pale_Skin              False\n",
       "Pointy_Nose            False\n",
       "Receding_Hairline      False\n",
       "Rosy_Cheeks            False\n",
       "Sideburns              False\n",
       "Smiling                False\n",
       "Straight_Hair          False\n",
       "Wavy_Hair              False\n",
       "Wearing_Earrings       False\n",
       "Wearing_Hat            False\n",
       "Wearing_Lipstick       False\n",
       "Wearing_Necklace       False\n",
       "Wearing_Necktie        False\n",
       "Young                  False\n",
       "dtype: bool"
      ]
     },
     "execution_count": 21,
     "metadata": {},
     "output_type": "execute_result"
    }
   ],
   "source": [
    "def check_missing_values(csv_path):\n",
    "    df = pd.read_csv(csv_path)\n",
    "    missing_values = df.isnull().any()\n",
    "    \n",
    "    return missing_values\n",
    "\n",
    "check_missing_values(source_csv)"
   ]
  },
  {
   "cell_type": "markdown",
   "metadata": {},
   "source": [
    "## 3.3 Überprüfen ob es Anomalien, Ausreißer gibt"
   ]
  },
  {
   "cell_type": "code",
   "execution_count": 22,
   "metadata": {},
   "outputs": [],
   "source": [
    "# def test_outliers_all_columns(csv_path):\n",
    "#     df = pd.read_csv(csv_path)\n",
    "#     for column_name in df.columns:\n",
    "#         if np.issubdtype(df[column_name].dtype, np.number):  # Überprüfe, ob die Spalte numerisch ist\n",
    "#             z_scores = np.abs((df[column_name] - df[column_name].mean()) / df[column_name].std())\n",
    "#             assert not any(z_scores > 3), f\"Es gibt Ausreißer in der Spalte '{column_name}'\"\n",
    "\n",
    "# test_outliers_all_columns(source_csv)"
   ]
  },
  {
   "cell_type": "markdown",
   "metadata": {},
   "source": [
    "## 3.4 Überprüfen ob die Daten ausgeglichen sind"
   ]
  },
  {
   "cell_type": "code",
   "execution_count": 22,
   "metadata": {},
   "outputs": [
    {
     "name": "stdout",
     "output_type": "stream",
     "text": [
      "Es gibt unausgeglichene Spalten:\n",
      "Die Spalte '5_o_Clock_Shadow' ist unausgeglichen. Anzahl von -1: 180083, Anzahl von 1: 22516\n",
      "Die Spalte 'Arched_Eyebrows' ist unausgeglichen. Anzahl von -1: 148509, Anzahl von 1: 54090\n",
      "Die Spalte 'Bags_Under_Eyes' ist unausgeglichen. Anzahl von -1: 161153, Anzahl von 1: 41446\n",
      "Die Spalte 'Bald' ist unausgeglichen. Anzahl von -1: 198052, Anzahl von 1: 4547\n",
      "Die Spalte 'Bangs' ist unausgeglichen. Anzahl von -1: 171890, Anzahl von 1: 30709\n",
      "Die Spalte 'Big_Lips' ist unausgeglichen. Anzahl von -1: 153814, Anzahl von 1: 48785\n",
      "Die Spalte 'Big_Nose' ist unausgeglichen. Anzahl von -1: 155083, Anzahl von 1: 47516\n",
      "Die Spalte 'Black_Hair' ist unausgeglichen. Anzahl von -1: 154127, Anzahl von 1: 48472\n",
      "Die Spalte 'Blond_Hair' ist unausgeglichen. Anzahl von -1: 172616, Anzahl von 1: 29983\n",
      "Die Spalte 'Blurry' ist unausgeglichen. Anzahl von -1: 192287, Anzahl von 1: 10312\n",
      "Die Spalte 'Brown_Hair' ist unausgeglichen. Anzahl von -1: 161027, Anzahl von 1: 41572\n",
      "Die Spalte 'Bushy_Eyebrows' ist unausgeglichen. Anzahl von -1: 173796, Anzahl von 1: 28803\n",
      "Die Spalte 'Chubby' ist unausgeglichen. Anzahl von -1: 190936, Anzahl von 1: 11663\n",
      "Die Spalte 'Double_Chin' ist unausgeglichen. Anzahl von -1: 193140, Anzahl von 1: 9459\n",
      "Die Spalte 'Eyeglasses' ist unausgeglichen. Anzahl von -1: 189406, Anzahl von 1: 13193\n",
      "Die Spalte 'Goatee' ist unausgeglichen. Anzahl von -1: 189883, Anzahl von 1: 12716\n",
      "Die Spalte 'Gray_Hair' ist unausgeglichen. Anzahl von -1: 194100, Anzahl von 1: 8499\n",
      "Die Spalte 'Heavy_Makeup' ist unausgeglichen. Anzahl von -1: 124209, Anzahl von 1: 78390\n",
      "Die Spalte 'Male' ist unausgeglichen. Anzahl von -1: 118165, Anzahl von 1: 84434\n",
      "Die Spalte 'Mustache' ist unausgeglichen. Anzahl von -1: 194182, Anzahl von 1: 8417\n",
      "Die Spalte 'Narrow_Eyes' ist unausgeglichen. Anzahl von -1: 179270, Anzahl von 1: 23329\n",
      "Die Spalte 'No_Beard' ist unausgeglichen. Anzahl von -1: 33441, Anzahl von 1: 169158\n",
      "Die Spalte 'Oval_Face' ist unausgeglichen. Anzahl von -1: 145032, Anzahl von 1: 57567\n",
      "Die Spalte 'Pale_Skin' ist unausgeglichen. Anzahl von -1: 193898, Anzahl von 1: 8701\n",
      "Die Spalte 'Pointy_Nose' ist unausgeglichen. Anzahl von -1: 146389, Anzahl von 1: 56210\n",
      "Die Spalte 'Receding_Hairline' ist unausgeglichen. Anzahl von -1: 186436, Anzahl von 1: 16163\n",
      "Die Spalte 'Rosy_Cheeks' ist unausgeglichen. Anzahl von -1: 189284, Anzahl von 1: 13315\n",
      "Die Spalte 'Sideburns' ist unausgeglichen. Anzahl von -1: 191150, Anzahl von 1: 11449\n",
      "Die Spalte 'Straight_Hair' ist unausgeglichen. Anzahl von -1: 160377, Anzahl von 1: 42222\n",
      "Die Spalte 'Wavy_Hair' ist unausgeglichen. Anzahl von -1: 137855, Anzahl von 1: 64744\n",
      "Die Spalte 'Wearing_Earrings' ist unausgeglichen. Anzahl von -1: 164323, Anzahl von 1: 38276\n",
      "Die Spalte 'Wearing_Hat' ist unausgeglichen. Anzahl von -1: 192781, Anzahl von 1: 9818\n",
      "Die Spalte 'Wearing_Necklace' ist unausgeglichen. Anzahl von -1: 177686, Anzahl von 1: 24913\n",
      "Die Spalte 'Wearing_Necktie' ist unausgeglichen. Anzahl von -1: 187867, Anzahl von 1: 14732\n",
      "Die Spalte 'Young' ist unausgeglichen. Anzahl von -1: 45865, Anzahl von 1: 156734\n"
     ]
    }
   ],
   "source": [
    "def test_balance_all_columns(csv_path):\n",
    "    df = pd.read_csv(csv_path)\n",
    "    imbalance_report = []\n",
    "\n",
    "    for column_name in df.columns:\n",
    "        if np.issubdtype(df[column_name].dtype, np.number):  # Überprüfe, ob die Spalte numerisch ist\n",
    "            counts = df[column_name].value_counts()\n",
    "            if abs(counts.get(-1, 0) - counts.get(1, 0)) >= 0.1 * len(df):\n",
    "                imbalance_report.append(f\"Die Spalte '{column_name}' ist unausgeglichen. Anzahl von -1: {counts.get(-1, 0)}, Anzahl von 1: {counts.get(1, 0)}\")\n",
    "\n",
    "    if imbalance_report:\n",
    "        print(\"Es gibt unausgeglichene Spalten:\\n\" + \"\\n\".join(imbalance_report))\n",
    "\n",
    "\n",
    "\n",
    "def create_empty_png_for_each_column(df, folder='plot_data'):\n",
    "    # Erstelle den Ordner, wenn er nicht existiert\n",
    "    if not os.path.exists(folder):\n",
    "        os.makedirs(folder)\n",
    "\n",
    "    for column in df.columns:\n",
    "        fig = plt.figure()\n",
    "        plt.axis('off')\n",
    "        fig.savefig(f'{folder}/{column}.png')\n",
    "        plt.close(fig)\n",
    "\n",
    "# Call the function\n",
    "create_empty_png_for_each_column(df)\n",
    "test_balance_all_columns(source_csv)\n",
    "# plot_balance_all_columns(source_csv)"
   ]
  },
  {
   "cell_type": "markdown",
   "metadata": {},
   "source": [
    "## 3.5 Datensatz auf Ausreißer überprüfen"
   ]
  },
  {
   "cell_type": "code",
   "execution_count": 24,
   "metadata": {},
   "outputs": [
    {
     "data": {
      "text/plain": [
       "{'5_o_Clock_Shadow': 11.113579040370388,\n",
       " 'Arched_Eyebrows': 0.0,\n",
       " 'Attractive': 0.0,\n",
       " 'Bags_Under_Eyes': 20.457159215988234,\n",
       " 'Bald': 2.244334868385333,\n",
       " 'Bangs': 15.157527924619568,\n",
       " 'Big_Lips': 24.079585782753124,\n",
       " 'Big_Nose': 23.453225336748947,\n",
       " 'Black_Hair': 23.925093411122464,\n",
       " 'Blond_Hair': 14.799184596172735,\n",
       " 'Blurry': 5.089857304330229,\n",
       " 'Brown_Hair': 20.519351033321982,\n",
       " 'Bushy_Eyebrows': 14.216753290983666,\n",
       " 'Chubby': 5.756691790186526,\n",
       " 'Double_Chin': 4.668828572697793,\n",
       " 'Eyeglasses': 6.511878143524894,\n",
       " 'Goatee': 6.276437692189991,\n",
       " 'Gray_Hair': 4.1949861549168554,\n",
       " 'Heavy_Makeup': 0.0,\n",
       " 'High_Cheekbones': 0.0,\n",
       " 'Male': 0.0,\n",
       " 'Mouth_Slightly_Open': 0.0,\n",
       " 'Mustache': 4.154512115064734,\n",
       " 'Narrow_Eyes': 11.514864337928618,\n",
       " 'No_Beard': 16.506004471887817,\n",
       " 'Oval_Face': 0.0,\n",
       " 'Pale_Skin': 4.294690496991594,\n",
       " 'Pointy_Nose': 0.0,\n",
       " 'Receding_Hairline': 7.977828123534667,\n",
       " 'Rosy_Cheeks': 6.572095617451221,\n",
       " 'Sideburns': 5.6510644178895255,\n",
       " 'Smiling': 0.0,\n",
       " 'Straight_Hair': 20.840181837027824,\n",
       " 'Wavy_Hair': 0.0,\n",
       " 'Wearing_Earrings': 18.89249206560743,\n",
       " 'Wearing_Hat': 4.846025893513788,\n",
       " 'Wearing_Lipstick': 0.0,\n",
       " 'Wearing_Necklace': 12.296704327267163,\n",
       " 'Wearing_Necktie': 7.271506769529958,\n",
       " 'Young': 22.638315095336107}"
      ]
     },
     "execution_count": 24,
     "metadata": {},
     "output_type": "execute_result"
    }
   ],
   "source": [
    "def detect_all_outliers(df):\n",
    "    outliers_percentage = {}\n",
    "    \n",
    "    # Gehe durch jede Spalte im DataFrame\n",
    "    for column_name in df.columns:\n",
    "        # Überspringe nicht-numerische Spalten\n",
    "        if pd.api.types.is_numeric_dtype(df[column_name]):\n",
    "            # Berechne den IQR-Score\n",
    "            Q1 = df[column_name].quantile(0.25)\n",
    "            Q3 = df[column_name].quantile(0.75)\n",
    "            IQR = Q3 - Q1\n",
    "\n",
    "            # Definiere die Grenzen für Ausreißer\n",
    "            lower_bound = Q1 - 1.5 * IQR\n",
    "            upper_bound = Q3 + 1.5 * IQR\n",
    "\n",
    "            # Finde die Ausreißer\n",
    "            outliers = df[(df[column_name] < lower_bound) | (df[column_name] > upper_bound)]\n",
    "            \n",
    "            # Berechne den Prozentsatz der Ausreißer\n",
    "            outliers_percentage[column_name] = len(outliers) / len(df) * 100\n",
    "    \n",
    "    return outliers_percentage\n",
    "\n",
    "\n",
    "def detect_outliers(df, column_name):\n",
    "    # Berechne den IQR-Score\n",
    "    Q1 = df[column_name].quantile(0.25)\n",
    "    Q3 = df[column_name].quantile(0.75)\n",
    "    IQR = Q3 - Q1\n",
    "\n",
    "    # Definiere die Grenzen für Ausreißer\n",
    "    lower_bound = Q1 - 1.5 * IQR\n",
    "    upper_bound = Q3 + 1.5 * IQR\n",
    "\n",
    "    # Finde die Ausreißer\n",
    "    outliers = df[(df[column_name] < lower_bound) | (df[column_name] > upper_bound)]\n",
    "\n",
    "    return outliers\n",
    "\n",
    "\n",
    "df = pd.read_csv(source_csv)\n",
    "detect_all_outliers(df)"
   ]
  },
  {
   "cell_type": "markdown",
   "metadata": {},
   "source": [
    "# 4 Unausgeglichenheit der Daten von ein Paar Datensätzen auflösen um das Verhalten auf das ML-Modell zu beobachten"
   ]
  },
  {
   "cell_type": "markdown",
   "metadata": {},
   "source": [
    "## 4.1 Anpassen der Unausgeglichenheit zwischen Frauen und Mann Datensätzen"
   ]
  },
  {
   "cell_type": "code",
   "execution_count": 25,
   "metadata": {},
   "outputs": [
    {
     "data": {
      "image/png": "[encoded data removed]",
      "text/plain": [
       "<Figure size 640x480 with 1 Axes>"
      ]
     },
     "metadata": {},
     "output_type": "display_data"
    }
   ],
   "source": [
    "def plot_gender_histogram(df):\n",
    "    # Zähle die Anzahl von Frauen und Männern\n",
    "    counts = df['Male'].value_counts()\n",
    "\n",
    "    # Plotte die Daten\n",
    "    plt.bar(['Female', 'Male'], [counts[-1], counts[1]], color=['#ff69b4', '#1f77b4'])\n",
    "\n",
    "    # Schreibe Text auf die Balken\n",
    "    for i, v in enumerate([counts[-1], counts[1]]):\n",
    "        plt.text(i, v, str(v), fontsize=12, ha='center', va='bottom')\n",
    "\n",
    "    plt.xlabel('Gender')\n",
    "    plt.ylabel('Count')\n",
    "    plt.show()\n",
    "\n",
    "\n",
    "def balance_column(csv_path, column_name):\n",
    "    # Lade die CSV-Datei in einen DataFrame\n",
    "    df = pd.read_csv(csv_path)\n",
    "\n",
    "    # Zähle die Anzahl von -1 und 1\n",
    "    counts = df[column_name].value_counts()\n",
    "\n",
    "    # Finde den kleineren Wert\n",
    "    min_count = min(counts.get(-1, 0), counts.get(1, 0))\n",
    "\n",
    "    # Erstelle einen neuen DataFrame mit einer ausgeglichenen Anzahl von -1 und 1\n",
    "    df_balanced = pd.concat([\n",
    "        df[df[column_name] == -1].sample(min_count),\n",
    "        df[df[column_name] == 1].sample(min_count)\n",
    "    ], axis=0)\n",
    "\n",
    "    return df_balanced\n",
    "\n",
    "\n",
    "# Call the function with your csv file\n",
    "balanced_df = balance_column(source_csv, \"Male\")\n",
    "balanced_df.to_csv(\"balanced_gender.csv\", index=False)\n",
    "\n",
    "balanced_csv_path =r\"data\\balanced_gender.csv\"\n",
    "plot_gender_histogram(balanced_df)\n"
   ]
  },
  {
   "cell_type": "markdown",
   "metadata": {},
   "source": [
    "## 4.2 Unausgeglichenheit zwischen Jungen und Alten Personendatensätzen ausgleichen"
   ]
  },
  {
   "cell_type": "code",
   "execution_count": 26,
   "metadata": {},
   "outputs": [
    {
     "data": {
      "image/png": "[encoded data removed]",
      "text/plain": [
       "<Figure size 640x480 with 1 Axes>"
      ]
     },
     "metadata": {},
     "output_type": "display_data"
    }
   ],
   "source": [
    "def plot_young_histogram(df):\n",
    "    # Zähle die Anzahl von Frauen und Männern\n",
    "    counts = df[\"Young\"].value_counts()\n",
    "\n",
    "    # Plotte die Daten\n",
    "    plt.bar(['not Young', 'Young'], [counts[-1], counts[1]], color=['#ff69b4', '#1f77b4'])\n",
    "\n",
    "    # Schreibe Text auf die Balken\n",
    "    for i, v in enumerate([counts[-1], counts[1]]):\n",
    "        plt.text(i, v, str(v), fontsize=12, ha='center', va='bottom')\n",
    "    plt.title('Young oder nicht Young ohne Balanced Gender Data')\n",
    "    plt.xlabel('Young or not Young')\n",
    "    plt.ylabel('Count')\n",
    "    plt.show()\n",
    "\n",
    "young_balanced_csv = r\"C:\\Users\\busse\\Bachelorarbeit\\CICD-Pipeline-Gender-Recognition\\data\\balanced_young.csv\"\n",
    "df_young_balanced = balance_column(source_csv, \"Young\")\n",
    "df_young_balanced.to_csv(\"balanced_young.csv\", index=False)\n",
    "df_young_balanced = pd.read_csv(young_balanced_csv)\n",
    "\n",
    "plot_young_histogram(df_young_balanced)\n",
    "\n"
   ]
  },
  {
   "cell_type": "markdown",
   "metadata": {},
   "source": [
    "# 5. Datenverteilung Testen"
   ]
  },
  {
   "cell_type": "markdown",
   "metadata": {},
   "source": [
    "## 5.1 Daten auf Normalverteilung testen"
   ]
  },
  {
   "cell_type": "code",
   "execution_count": 27,
   "metadata": {},
   "outputs": [
    {
     "name": "stdout",
     "output_type": "stream",
     "text": [
      "Die Daten in der Spalte 5_o_Clock_Shadow folgen wahrscheinlich nicht einer Normalverteilung.\n",
      "Die Daten in der Spalte Arched_Eyebrows folgen wahrscheinlich nicht einer Normalverteilung.\n",
      "Die Daten in der Spalte Attractive folgen wahrscheinlich nicht einer Normalverteilung.\n",
      "Die Daten in der Spalte Bags_Under_Eyes folgen wahrscheinlich nicht einer Normalverteilung.\n",
      "Die Daten in der Spalte Bald folgen wahrscheinlich nicht einer Normalverteilung.\n",
      "Die Daten in der Spalte Bangs folgen wahrscheinlich nicht einer Normalverteilung.\n",
      "Die Daten in der Spalte Big_Lips folgen wahrscheinlich nicht einer Normalverteilung.\n",
      "Die Daten in der Spalte Big_Nose folgen wahrscheinlich nicht einer Normalverteilung.\n",
      "Die Daten in der Spalte Black_Hair folgen wahrscheinlich nicht einer Normalverteilung.\n",
      "Die Daten in der Spalte Blond_Hair folgen wahrscheinlich nicht einer Normalverteilung.\n",
      "Die Daten in der Spalte Blurry folgen wahrscheinlich nicht einer Normalverteilung.\n",
      "Die Daten in der Spalte Brown_Hair folgen wahrscheinlich nicht einer Normalverteilung.\n",
      "Die Daten in der Spalte Bushy_Eyebrows folgen wahrscheinlich nicht einer Normalverteilung.\n",
      "Die Daten in der Spalte Chubby folgen wahrscheinlich nicht einer Normalverteilung.\n",
      "Die Daten in der Spalte Double_Chin folgen wahrscheinlich nicht einer Normalverteilung.\n",
      "Die Daten in der Spalte Eyeglasses folgen wahrscheinlich nicht einer Normalverteilung.\n",
      "Die Daten in der Spalte Goatee folgen wahrscheinlich nicht einer Normalverteilung.\n",
      "Die Daten in der Spalte Gray_Hair folgen wahrscheinlich nicht einer Normalverteilung.\n",
      "Die Daten in der Spalte Heavy_Makeup folgen wahrscheinlich nicht einer Normalverteilung.\n",
      "Die Daten in der Spalte High_Cheekbones folgen wahrscheinlich nicht einer Normalverteilung.\n",
      "Die Daten in der Spalte Male folgen wahrscheinlich nicht einer Normalverteilung.\n",
      "Die Daten in der Spalte Mouth_Slightly_Open folgen wahrscheinlich nicht einer Normalverteilung.\n",
      "Die Daten in der Spalte Mustache folgen wahrscheinlich nicht einer Normalverteilung.\n",
      "Die Daten in der Spalte Narrow_Eyes folgen wahrscheinlich nicht einer Normalverteilung.\n",
      "Die Daten in der Spalte No_Beard folgen wahrscheinlich nicht einer Normalverteilung.\n",
      "Die Daten in der Spalte Oval_Face folgen wahrscheinlich nicht einer Normalverteilung.\n",
      "Die Daten in der Spalte Pale_Skin folgen wahrscheinlich nicht einer Normalverteilung.\n",
      "Die Daten in der Spalte Pointy_Nose folgen wahrscheinlich nicht einer Normalverteilung.\n",
      "Die Daten in der Spalte Receding_Hairline folgen wahrscheinlich nicht einer Normalverteilung.\n",
      "Die Daten in der Spalte Rosy_Cheeks folgen wahrscheinlich nicht einer Normalverteilung.\n",
      "Die Daten in der Spalte Sideburns folgen wahrscheinlich nicht einer Normalverteilung.\n",
      "Die Daten in der Spalte Smiling folgen wahrscheinlich nicht einer Normalverteilung.\n",
      "Die Daten in der Spalte Straight_Hair folgen wahrscheinlich nicht einer Normalverteilung.\n",
      "Die Daten in der Spalte Wavy_Hair folgen wahrscheinlich nicht einer Normalverteilung.\n",
      "Die Daten in der Spalte Wearing_Earrings folgen wahrscheinlich nicht einer Normalverteilung.\n",
      "Die Daten in der Spalte Wearing_Hat folgen wahrscheinlich nicht einer Normalverteilung.\n",
      "Die Daten in der Spalte Wearing_Lipstick folgen wahrscheinlich nicht einer Normalverteilung.\n",
      "Die Daten in der Spalte Wearing_Necklace folgen wahrscheinlich nicht einer Normalverteilung.\n",
      "Die Daten in der Spalte Wearing_Necktie folgen wahrscheinlich nicht einer Normalverteilung.\n",
      "Die Daten in der Spalte Young folgen wahrscheinlich nicht einer Normalverteilung.\n"
     ]
    }
   ],
   "source": [
    "from scipy.stats import shapiro\n",
    "from scipy.stats import kstest, uniform\n",
    "import pandas as pd\n",
    "\n",
    "\n",
    "def test_normal_distribution(data, column_name):\n",
    "    # Führe den Shapiro-Wilk-Test durch\n",
    "    stat, p = shapiro(data)\n",
    "\n",
    "    # Überprüfe das Ergebnis\n",
    "    if p > 0.05:\n",
    "        print(f'Die Daten in der Spalte {column_name} folgen wahrscheinlich einer Normalverteilung.')\n",
    "    else:\n",
    "        print(f'Die Daten in der Spalte {column_name} folgen wahrscheinlich nicht einer Normalverteilung.')\n",
    "\n",
    "# Call the function with your data\n",
    "for column_name in df.columns:\n",
    "    if pd.api.types.is_numeric_dtype(df[column_name]):\n",
    "        test_normal_distribution(df[column_name], column_name)\n",
    "\n",
    "\n",
    "\n",
    "\n",
    "\n"
   ]
  },
  {
   "cell_type": "markdown",
   "metadata": {},
   "source": [
    "## 5.2 Daten auf Uniformverteilung testen"
   ]
  },
  {
   "cell_type": "code",
   "execution_count": 28,
   "metadata": {},
   "outputs": [
    {
     "name": "stdout",
     "output_type": "stream",
     "text": [
      "Die Daten in der Spalte 5_o_Clock_Shadow wahrscheinlich nicht einer Uniformverteilung.\n",
      "Die Daten in der Spalte Arched_Eyebrows wahrscheinlich nicht einer Uniformverteilung.\n",
      "Die Daten in der Spalte Attractive wahrscheinlich nicht einer Uniformverteilung.\n",
      "Die Daten in der Spalte Bags_Under_Eyes wahrscheinlich nicht einer Uniformverteilung.\n",
      "Die Daten in der Spalte Bald wahrscheinlich nicht einer Uniformverteilung.\n",
      "Die Daten in der Spalte Bangs wahrscheinlich nicht einer Uniformverteilung.\n",
      "Die Daten in der Spalte Big_Lips wahrscheinlich nicht einer Uniformverteilung.\n",
      "Die Daten in der Spalte Big_Nose wahrscheinlich nicht einer Uniformverteilung.\n",
      "Die Daten in der Spalte Black_Hair wahrscheinlich nicht einer Uniformverteilung.\n",
      "Die Daten in der Spalte Blond_Hair wahrscheinlich nicht einer Uniformverteilung.\n",
      "Die Daten in der Spalte Blurry wahrscheinlich nicht einer Uniformverteilung.\n",
      "Die Daten in der Spalte Brown_Hair wahrscheinlich nicht einer Uniformverteilung.\n",
      "Die Daten in der Spalte Bushy_Eyebrows wahrscheinlich nicht einer Uniformverteilung.\n",
      "Die Daten in der Spalte Chubby wahrscheinlich nicht einer Uniformverteilung.\n",
      "Die Daten in der Spalte Double_Chin wahrscheinlich nicht einer Uniformverteilung.\n",
      "Die Daten in der Spalte Eyeglasses wahrscheinlich nicht einer Uniformverteilung.\n",
      "Die Daten in der Spalte Goatee wahrscheinlich nicht einer Uniformverteilung.\n",
      "Die Daten in der Spalte Gray_Hair wahrscheinlich nicht einer Uniformverteilung.\n",
      "Die Daten in der Spalte Heavy_Makeup wahrscheinlich nicht einer Uniformverteilung.\n",
      "Die Daten in der Spalte High_Cheekbones wahrscheinlich nicht einer Uniformverteilung.\n",
      "Die Daten in der Spalte Male wahrscheinlich nicht einer Uniformverteilung.\n",
      "Die Daten in der Spalte Mouth_Slightly_Open wahrscheinlich nicht einer Uniformverteilung.\n",
      "Die Daten in der Spalte Mustache wahrscheinlich nicht einer Uniformverteilung.\n",
      "Die Daten in der Spalte Narrow_Eyes wahrscheinlich nicht einer Uniformverteilung.\n",
      "Die Daten in der Spalte No_Beard wahrscheinlich nicht einer Uniformverteilung.\n",
      "Die Daten in der Spalte Oval_Face wahrscheinlich nicht einer Uniformverteilung.\n",
      "Die Daten in der Spalte Pale_Skin wahrscheinlich nicht einer Uniformverteilung.\n",
      "Die Daten in der Spalte Pointy_Nose wahrscheinlich nicht einer Uniformverteilung.\n",
      "Die Daten in der Spalte Receding_Hairline wahrscheinlich nicht einer Uniformverteilung.\n",
      "Die Daten in der Spalte Rosy_Cheeks wahrscheinlich nicht einer Uniformverteilung.\n",
      "Die Daten in der Spalte Sideburns wahrscheinlich nicht einer Uniformverteilung.\n",
      "Die Daten in der Spalte Smiling wahrscheinlich nicht einer Uniformverteilung.\n",
      "Die Daten in der Spalte Straight_Hair wahrscheinlich nicht einer Uniformverteilung.\n",
      "Die Daten in der Spalte Wavy_Hair wahrscheinlich nicht einer Uniformverteilung.\n",
      "Die Daten in der Spalte Wearing_Earrings wahrscheinlich nicht einer Uniformverteilung.\n",
      "Die Daten in der Spalte Wearing_Hat wahrscheinlich nicht einer Uniformverteilung.\n",
      "Die Daten in der Spalte Wearing_Lipstick wahrscheinlich nicht einer Uniformverteilung.\n",
      "Die Daten in der Spalte Wearing_Necklace wahrscheinlich nicht einer Uniformverteilung.\n",
      "Die Daten in der Spalte Wearing_Necktie wahrscheinlich nicht einer Uniformverteilung.\n",
      "Die Daten in der Spalte Young wahrscheinlich nicht einer Uniformverteilung.\n"
     ]
    }
   ],
   "source": [
    "def test_uniform_distribution(data, column_name):\n",
    "    # Generiere theoretische Werte für die Uniformverteilung\n",
    "    theoretical_values = uniform.rvs(size=len(data))\n",
    "\n",
    "    # Führe den KS-Test durch\n",
    "    stat, p = kstest(data, theoretical_values)\n",
    "\n",
    "    # Überprüfe das Ergebnis\n",
    "    if p > 0.05:\n",
    "        print(f'Die Daten in der Spalte {column_name} folgen wahrscheinlich einer Uniformverteilung.')\n",
    "    else:\n",
    "        print(f'Die Daten in der Spalte {column_name} wahrscheinlich nicht einer Uniformverteilung.')\n",
    "\n",
    "# Call the function with your data\n",
    "for column_name in df.columns:\n",
    "    if pd.api.types.is_numeric_dtype(df[column_name]):\n",
    "        test_uniform_distribution(df[column_name], column_name)"
   ]
  },
  {
   "cell_type": "markdown",
   "metadata": {},
   "source": [
    "## 5.3 Daten auf Binomialverteilung testen"
   ]
  },
  {
   "cell_type": "code",
   "execution_count": 29,
   "metadata": {},
   "outputs": [
    {
     "name": "stdout",
     "output_type": "stream",
     "text": [
      "Die Daten in der Spalte 5_o_Clock_Shadow folgen wahrscheinlich nicht einer Binomialverteilung.\n",
      "Die Daten in der Spalte Arched_Eyebrows folgen wahrscheinlich nicht einer Binomialverteilung.\n",
      "Die Daten in der Spalte Attractive folgen wahrscheinlich nicht einer Binomialverteilung.\n",
      "Die Daten in der Spalte Bags_Under_Eyes folgen wahrscheinlich nicht einer Binomialverteilung.\n",
      "Die Daten in der Spalte Bald folgen wahrscheinlich nicht einer Binomialverteilung.\n",
      "Die Daten in der Spalte Bangs folgen wahrscheinlich nicht einer Binomialverteilung.\n",
      "Die Daten in der Spalte Big_Lips folgen wahrscheinlich nicht einer Binomialverteilung.\n",
      "Die Daten in der Spalte Big_Nose folgen wahrscheinlich nicht einer Binomialverteilung.\n",
      "Die Daten in der Spalte Black_Hair folgen wahrscheinlich nicht einer Binomialverteilung.\n",
      "Die Daten in der Spalte Blond_Hair folgen wahrscheinlich nicht einer Binomialverteilung.\n",
      "Die Daten in der Spalte Blurry folgen wahrscheinlich nicht einer Binomialverteilung.\n",
      "Die Daten in der Spalte Brown_Hair folgen wahrscheinlich nicht einer Binomialverteilung.\n",
      "Die Daten in der Spalte Bushy_Eyebrows folgen wahrscheinlich nicht einer Binomialverteilung.\n",
      "Die Daten in der Spalte Chubby folgen wahrscheinlich nicht einer Binomialverteilung.\n",
      "Die Daten in der Spalte Double_Chin folgen wahrscheinlich nicht einer Binomialverteilung.\n",
      "Die Daten in der Spalte Eyeglasses folgen wahrscheinlich nicht einer Binomialverteilung.\n",
      "Die Daten in der Spalte Goatee folgen wahrscheinlich nicht einer Binomialverteilung.\n",
      "Die Daten in der Spalte Gray_Hair folgen wahrscheinlich nicht einer Binomialverteilung.\n",
      "Die Daten in der Spalte Heavy_Makeup folgen wahrscheinlich nicht einer Binomialverteilung.\n",
      "Die Daten in der Spalte High_Cheekbones folgen wahrscheinlich nicht einer Binomialverteilung.\n",
      "Die Daten in der Spalte Male folgen wahrscheinlich nicht einer Binomialverteilung.\n",
      "Die Daten in der Spalte Mouth_Slightly_Open folgen wahrscheinlich nicht einer Binomialverteilung.\n",
      "Die Daten in der Spalte Mustache folgen wahrscheinlich nicht einer Binomialverteilung.\n",
      "Die Daten in der Spalte Narrow_Eyes folgen wahrscheinlich nicht einer Binomialverteilung.\n",
      "Die Daten in der Spalte No_Beard folgen wahrscheinlich nicht einer Binomialverteilung.\n",
      "Die Daten in der Spalte Oval_Face folgen wahrscheinlich nicht einer Binomialverteilung.\n",
      "Die Daten in der Spalte Pale_Skin folgen wahrscheinlich nicht einer Binomialverteilung.\n",
      "Die Daten in der Spalte Pointy_Nose folgen wahrscheinlich nicht einer Binomialverteilung.\n",
      "Die Daten in der Spalte Receding_Hairline folgen wahrscheinlich nicht einer Binomialverteilung.\n",
      "Die Daten in der Spalte Rosy_Cheeks folgen wahrscheinlich nicht einer Binomialverteilung.\n",
      "Die Daten in der Spalte Sideburns folgen wahrscheinlich nicht einer Binomialverteilung.\n",
      "Die Daten in der Spalte Smiling folgen wahrscheinlich nicht einer Binomialverteilung.\n",
      "Die Daten in der Spalte Straight_Hair folgen wahrscheinlich nicht einer Binomialverteilung.\n",
      "Die Daten in der Spalte Wavy_Hair folgen wahrscheinlich nicht einer Binomialverteilung.\n",
      "Die Daten in der Spalte Wearing_Earrings folgen wahrscheinlich nicht einer Binomialverteilung.\n",
      "Die Daten in der Spalte Wearing_Hat folgen wahrscheinlich nicht einer Binomialverteilung.\n",
      "Die Daten in der Spalte Wearing_Lipstick folgen wahrscheinlich nicht einer Binomialverteilung.\n",
      "Die Daten in der Spalte Wearing_Necklace folgen wahrscheinlich nicht einer Binomialverteilung.\n",
      "Die Daten in der Spalte Wearing_Necktie folgen wahrscheinlich nicht einer Binomialverteilung.\n",
      "Die Daten in der Spalte Young folgen wahrscheinlich nicht einer Binomialverteilung.\n"
     ]
    }
   ],
   "source": [
    "from scipy.stats import chisquare, binom\n",
    "\n",
    "def test_binomial_distribution(data, column_name, p):\n",
    "    # Berechne die erwarteten Häufigkeiten\n",
    "    n = len(data)\n",
    "    expected_values = [n*p, n*(1-p)]\n",
    "\n",
    "    # Berechne die beobachteten Häufigkeiten\n",
    "    observed_values = [sum(data), n-sum(data)]\n",
    "\n",
    "    # Führe den Chi-Quadrat-Anpassungstest durch\n",
    "    stat, p_value = chisquare(f_obs=observed_values, f_exp=expected_values)\n",
    "\n",
    "    # Überprüfe das Ergebnis\n",
    "    if p_value > 0.05:\n",
    "        print(f'Die Daten in der Spalte {column_name} folgen wahrscheinlich einer Binomialverteilung.')\n",
    "    else:\n",
    "        print(f'Die Daten in der Spalte {column_name} folgen wahrscheinlich nicht einer Binomialverteilung.')\n",
    "\n",
    "# Call the function with your data\n",
    "for column_name in df.columns:\n",
    "    if pd.api.types.is_numeric_dtype(df[column_name]):\n",
    "        test_binomial_distribution(df[column_name], column_name, p=0.5)"
   ]
  },
  {
   "cell_type": "markdown",
   "metadata": {},
   "source": [
    "# 6. Hier werden die Daten nun visualisiert. Dabei werden Datenvielfalt, Datenverteilung visualisiert. "
   ]
  },
  {
   "cell_type": "markdown",
   "metadata": {},
   "source": []
  },
  {
   "cell_type": "code",
   "execution_count": 30,
   "metadata": {},
   "outputs": [
    {
     "data": {
      "text/plain": [
       "\"Die Spalte '5_o_Clock_Shadow' hat Ausreißer. Anzahl: 22516\\nDie Spalte 'Bags_Under_Eyes' hat Ausreißer. Anzahl: 41446\\nDie Spalte 'Bald' hat Ausreißer. Anzahl: 4547\\nDie Spalte 'Bangs' hat Ausreißer. Anzahl: 30709\\nDie Spalte 'Big_Lips' hat Ausreißer. Anzahl: 48785\\nDie Spalte 'Big_Nose' hat Ausreißer. Anzahl: 47516\\nDie Spalte 'Black_Hair' hat Ausreißer. Anzahl: 48472\\nDie Spalte 'Blond_Hair' hat Ausreißer. Anzahl: 29983\\nDie Spalte 'Blurry' hat Ausreißer. Anzahl: 10312\\nDie Spalte 'Brown_Hair' hat Ausreißer. Anzahl: 41572\\nDie Spalte 'Bushy_Eyebrows' hat Ausreißer. Anzahl: 28803\\nDie Spalte 'Chubby' hat Ausreißer. Anzahl: 11663\\nDie Spalte 'Double_Chin' hat Ausreißer. Anzahl: 9459\\nDie Spalte 'Eyeglasses' hat Ausreißer. Anzahl: 13193\\nDie Spalte 'Goatee' hat Ausreißer. Anzahl: 12716\\nDie Spalte 'Gray_Hair' hat Ausreißer. Anzahl: 8499\\nDie Spalte 'Mustache' hat Ausreißer. Anzahl: 8417\\nDie Spalte 'Narrow_Eyes' hat Ausreißer. Anzahl: 23329\\nDie Spalte 'No_Beard' hat Ausreißer. Anzahl: 33441\\nDie Spalte 'Pale_Skin' hat Ausreißer. Anzahl: 8701\\nDie Spalte 'Receding_Hairline' hat Ausreißer. Anzahl: 16163\\nDie Spalte 'Rosy_Cheeks' hat Ausreißer. Anzahl: 13315\\nDie Spalte 'Sideburns' hat Ausreißer. Anzahl: 11449\\nDie Spalte 'Straight_Hair' hat Ausreißer. Anzahl: 42222\\nDie Spalte 'Wearing_Earrings' hat Ausreißer. Anzahl: 38276\\nDie Spalte 'Wearing_Hat' hat Ausreißer. Anzahl: 9818\\nDie Spalte 'Wearing_Necklace' hat Ausreißer. Anzahl: 24913\\nDie Spalte 'Wearing_Necktie' hat Ausreißer. Anzahl: 14732\\nDie Spalte 'Young' hat Ausreißer. Anzahl: 45865\""
      ]
     },
     "execution_count": 30,
     "metadata": {},
     "output_type": "execute_result"
    }
   ],
   "source": [
    "def detect_outliers_iqr_all_columns(csv_path):\n",
    "    df = pd.read_csv(csv_path)\n",
    "    outliers_report = []\n",
    "\n",
    "    for column_name in df.columns:\n",
    "        if np.issubdtype(df[column_name].dtype, np.number):  # Überprüfe, ob die Spalte numerisch ist\n",
    "            Q1 = df[column_name].quantile(0.25)\n",
    "            Q3 = df[column_name].quantile(0.75)\n",
    "            IQR = Q3 - Q1\n",
    "            outliers = df[(df[column_name] < Q1 - 1.5 * IQR) | (df[column_name] > Q3 + 1.5 * IQR)]\n",
    "            if not outliers.empty:\n",
    "                outliers_report.append(f\"Die Spalte '{column_name}' hat Ausreißer. Anzahl: {len(outliers)}\")\n",
    "\n",
    "    return \"\\n\".join(outliers_report)\n",
    "\n",
    "detect_outliers_iqr_all_columns(csv_path=csv_path)"
   ]
  },
  {
   "cell_type": "code",
   "execution_count": 31,
   "metadata": {},
   "outputs": [
    {
     "name": "stdout",
     "output_type": "stream",
     "text": [
      "Es gibt keine Duplikate in den Daten.\n"
     ]
    }
   ],
   "source": [
    "def check_duplicates(csv_path):\n",
    "    df = pd.read_csv(csv_path)\n",
    "    duplicates = df.duplicated()\n",
    "    if duplicates.any():\n",
    "        print(f\"Es gibt {duplicates.sum()} Duplikate in den Daten.\")\n",
    "    else:\n",
    "        print(\"Es gibt keine Duplikate in den Daten.\")\n",
    "\n",
    "check_duplicates(csv_path=csv_path)"
   ]
  },
  {
   "cell_type": "code",
   "execution_count": 32,
   "metadata": {},
   "outputs": [
    {
     "name": "stdout",
     "output_type": "stream",
     "text": [
      "Es gibt keine Nullwerte in den Daten.\n"
     ]
    }
   ],
   "source": [
    "def check_null_values(csv_path):\n",
    "    df = pd.read_csv(csv_path)\n",
    "    null_values = df.isnull().sum()\n",
    "    if null_values.any():\n",
    "        print(f\"Es gibt Nullwerte in den Daten:\\n{null_values}\")\n",
    "    else:\n",
    "        print(\"Es gibt keine Nullwerte in den Daten.\")\n",
    "\n",
    "check_null_values(csv_path=csv_path)"
   ]
  },
  {
   "cell_type": "code",
   "execution_count": 33,
   "metadata": {},
   "outputs": [],
   "source": [
    "# from great_expectations.data_context import DataContext\n",
    "\n",
    "# context = DataContext('great_expectations.yml')\n",
    "\n",
    "# # Load a batch of data\n",
    "# batch = context.get_batch('my_datasource', 'my_expectation_suite', 'my_data')\n",
    "\n",
    "# # Check if the data meets your expectations\n",
    "# results = context.run_validation_operator('action_list_operator', assets_to_validate=[batch])\n",
    "\n",
    "# # Print the results\n",
    "# print(results)\n"
   ]
  },
  {
   "cell_type": "code",
   "execution_count": 34,
   "metadata": {},
   "outputs": [
    {
     "data": {
      "image/png": "[encoded data removed]",
      "text/plain": [
       "<Figure size 640x480 with 3 Axes>"
      ]
     },
     "metadata": {},
     "output_type": "display_data"
    }
   ],
   "source": [
    "import matplotlib.pyplot as plt\n",
    "\n",
    "def plot_histograms(df, columns):\n",
    "    # Erstelle eine Figur und Achsen mit der gleichen Anzahl von Subplots wie Spalten\n",
    "    fig, axs = plt.subplots(len(columns))\n",
    "\n",
    "    # Für jede Spalte, erstelle ein Histogramm und füge es dem entsprechenden Subplot hinzu\n",
    "    for ax, column in zip(axs, columns):\n",
    "        # Zähle die Anzahl von Werten in der aktuellen Spalte\n",
    "        counts = df[column].value_counts()\n",
    "\n",
    "        # Plotte die Daten\n",
    "        ax.bar(['not ' + column, column], [counts[-1], counts[1]], color=['#ff69b4', '#1f77b4'])\n",
    "\n",
    "        # Schreibe Text auf die Balken\n",
    "        for i, v in enumerate([counts[-1], counts[1]]):\n",
    "            ax.text(i, v, str(v), fontsize=12, ha='center', va='bottom')\n",
    "        ax.set_title(column + ' oder nicht ' + column)\n",
    "        ax.set_xlabel(column + ' or not ' + column)\n",
    "        ax.set_ylabel('Count')\n",
    "\n",
    "    # Zeige alle Plots an\n",
    "    plt.tight_layout()\n",
    "    plt.show()\n",
    "\n",
    "# Call the function with your data and the columns you want to plot\n",
    "plot_histograms(df_young_balanced, ['Young', 'Male', 'Bald'])"
   ]
  }
 ],
 "metadata": {
  "kernelspec": {
   "display_name": "base",
   "language": "python",
   "name": "python3"
  },
  "language_info": {
   "codemirror_mode": {
    "name": "ipython",
    "version": 3
   },
   "file_extension": ".py",
   "mimetype": "text/x-python",
   "name": "python",
   "nbconvert_exporter": "python",
   "pygments_lexer": "ipython3",
   "version": "3.11.5"
  }
 },
 "nbformat": 4,
 "nbformat_minor": 2
}
