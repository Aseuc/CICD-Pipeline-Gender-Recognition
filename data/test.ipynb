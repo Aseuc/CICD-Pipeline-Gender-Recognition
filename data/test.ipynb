{
 "cells": [
  {
   "cell_type": "code",
   "execution_count": 52,
   "metadata": {},
   "outputs": [
    {
     "name": "stdout",
     "output_type": "stream",
     "text": [
      "{'bins': array([-1.        , -0.93333333, -0.86666667, -0.8       , -0.73333333,\n",
      "       -0.66666667, -0.6       , -0.53333333, -0.46666667, -0.4       ,\n",
      "       -0.33333333, -0.26666667, -0.2       , -0.13333333, -0.06666667,\n",
      "        0.        ,  0.06666667,  0.13333333,  0.2       ,  0.26666667,\n",
      "        0.33333333,  0.4       ,  0.46666667,  0.53333333,  0.6       ,\n",
      "        0.66666667,  0.73333333,  0.8       ,  0.86666667,  0.93333333,\n",
      "        1.        ]), 'weights': array([0.58324572, 0.        , 0.        , 0.        , 0.        ,\n",
      "       0.        , 0.        , 0.        , 0.        , 0.        ,\n",
      "       0.        , 0.        , 0.        , 0.        , 0.        ,\n",
      "       0.        , 0.        , 0.        , 0.        , 0.        ,\n",
      "       0.        , 0.        , 0.        , 0.        , 0.        ,\n",
      "       0.        , 0.        , 0.        , 0.        , 0.41675428])}\n"
     ]
    }
   ],
   "source": [
    "import great_expectations as ge\n",
    "\n",
    "context = ge.read_csv(\"data.csv\")\n",
    "\n",
    "result = ge.dataset.util.continuous_partition_data(context[\"Male\"], bins='auto', n_bins=\"auto\")\n",
    "distribution = ge.dataset.util.infer_distribution_parameters(context[\"Male\"], \"norm\")\n",
    "distribution2 = ge.dataset.util.infer_distribution_parameters(context[\"Male\"], \"uniform\", params=None)\n",
    "distribution3= ge.dataset.util.infer_distribution_parameters(context[\"Male\"],\"beta\", params=None)\n",
    "distribution4= ge.dataset.util.infer_distribution_parameters(context[\"Male\"],\"chi2\", params=None)\n",
    "distribution5= ge.dataset.util.infer_distribution_parameters(context[\"Male\"],\"gamma\", params=None)\n",
    "print(result)\t\n"
   ]
  },
  {
   "cell_type": "code",
   "execution_count": 25,
   "metadata": {},
   "outputs": [
    {
     "name": "stdout",
     "output_type": "stream",
     "text": [
      "{'mean': -0.16649144368925808, 'std_dev': 0.9860453327517108, 'min': -1, 'max': 2, 'loc': 0, 'scale': 1}\n"
     ]
    }
   ],
   "source": [
    "print(distribution2)"
   ]
  },
  {
   "cell_type": "code",
   "execution_count": 21,
   "metadata": {},
   "outputs": [
    {
     "name": "stdout",
     "output_type": "stream",
     "text": [
      "{'mean': -0.16649144368925808, 'std_dev': 0.9860453327517108, 'loc': 0, 'scale': 1}\n"
     ]
    }
   ],
   "source": [
    "print(distribution)"
   ]
  },
  {
   "cell_type": "code",
   "execution_count": 31,
   "metadata": {},
   "outputs": [
    {
     "name": "stdout",
     "output_type": "stream",
     "text": [
      "{'mean': -0.16649144368925808, 'std_dev': 0.9860453327517108, 'alpha': 0.19974756780798716, 'beta': -1.3994943138377638, 'loc': 0, 'scale': 1}\n"
     ]
    }
   ],
   "source": [
    "print(distribution3)"
   ]
  },
  {
   "cell_type": "code",
   "execution_count": 35,
   "metadata": {},
   "outputs": [
    {
     "name": "stdout",
     "output_type": "stream",
     "text": [
      "{'mean': -0.16649144368925808, 'std_dev': 0.9860453327517108, 'df': -0.16649144368925808, 'loc': 0, 'scale': 1}\n"
     ]
    }
   ],
   "source": [
    "print(distribution4)"
   ]
  },
  {
   "cell_type": "code",
   "execution_count": 38,
   "metadata": {},
   "outputs": [
    {
     "name": "stdout",
     "output_type": "stream",
     "text": [
      "{'mean': -0.16649144368925808, 'std_dev': 0.9860453327517108, 'alpha': -0.16649144368925808, 'loc': 0, 'scale': 1}\n"
     ]
    }
   ],
   "source": [
    "print(distribution5)"
   ]
  }
 ],
 "metadata": {
  "kernelspec": {
   "display_name": "Python 3",
   "language": "python",
   "name": "python3"
  },
  "language_info": {
   "codemirror_mode": {
    "name": "ipython",
    "version": 3
   },
   "file_extension": ".py",
   "mimetype": "text/x-python",
   "name": "python",
   "nbconvert_exporter": "python",
   "pygments_lexer": "ipython3",
   "version": "3.9.13"
  }
 },
 "nbformat": 4,
 "nbformat_minor": 2
}
