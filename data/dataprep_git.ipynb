{
 "cells": [
  {
   "cell_type": "code",
   "execution_count": 40,
   "metadata": {},
   "outputs": [],
   "source": [
    "import os\n",
    "import subprocess\n",
    "import pandas as pd\n",
    "import shutil\n",
    "import tqdm"
   ]
  },
  {
   "cell_type": "code",
   "execution_count": 3,
   "metadata": {},
   "outputs": [],
   "source": [
    "source_folder = \"data/source\"\n",
    "destination_folder = \"data/destination\""
   ]
  },
  {
   "cell_type": "code",
   "execution_count": 26,
   "metadata": {},
   "outputs": [
    {
     "ename": "FileNotFoundError",
     "evalue": "[Errno 2] No such file or directory: 'default.csv'",
     "output_type": "error",
     "traceback": [
      "\u001b[1;31m---------------------------------------------------------------------------\u001b[0m",
      "\u001b[1;31mFileNotFoundError\u001b[0m                         Traceback (most recent call last)",
      "\u001b[1;32mc:\\Users\\busse\\Bachelorarbeit\\CICD-Pipeline-Gender-Recognition\\data\\dataprep_git.ipynb Cell 3\u001b[0m line \u001b[0;36m4\n\u001b[0;32m     <a href='vscode-notebook-cell:/c%3A/Users/busse/Bachelorarbeit/CICD-Pipeline-Gender-Recognition/data/dataprep_git.ipynb#W2sZmlsZQ%3D%3D?line=34'>35</a>\u001b[0m     \u001b[39melse\u001b[39;00m: \n\u001b[0;32m     <a href='vscode-notebook-cell:/c%3A/Users/busse/Bachelorarbeit/CICD-Pipeline-Gender-Recognition/data/dataprep_git.ipynb#W2sZmlsZQ%3D%3D?line=35'>36</a>\u001b[0m         df \u001b[39m=\u001b[39m df\u001b[39m.\u001b[39mloc[:,feauture_names_in_csv_excel]\n\u001b[1;32m---> <a href='vscode-notebook-cell:/c%3A/Users/busse/Bachelorarbeit/CICD-Pipeline-Gender-Recognition/data/dataprep_git.ipynb#W2sZmlsZQ%3D%3D?line=42'>43</a>\u001b[0m setDestionationFolder(source_folder, destination_folder,\u001b[39m\"\u001b[39m\u001b[39mimage_id\u001b[39m\u001b[39m\"\u001b[39m)\n",
      "\u001b[1;32mc:\\Users\\busse\\Bachelorarbeit\\CICD-Pipeline-Gender-Recognition\\data\\dataprep_git.ipynb Cell 3\u001b[0m line \u001b[0;36m3\n\u001b[0;32m     <a href='vscode-notebook-cell:/c%3A/Users/busse/Bachelorarbeit/CICD-Pipeline-Gender-Recognition/data/dataprep_git.ipynb#W2sZmlsZQ%3D%3D?line=27'>28</a>\u001b[0m     \u001b[39mraise\u001b[39;00m \u001b[39mValueError\u001b[39;00m(\u001b[39m\"\u001b[39m\u001b[39mSet path of images in csv or excel file\u001b[39m\u001b[39m\"\u001b[39m)\n\u001b[0;32m     <a href='vscode-notebook-cell:/c%3A/Users/busse/Bachelorarbeit/CICD-Pipeline-Gender-Recognition/data/dataprep_git.ipynb#W2sZmlsZQ%3D%3D?line=28'>29</a>\u001b[0m \u001b[39melse\u001b[39;00m:\n\u001b[1;32m---> <a href='vscode-notebook-cell:/c%3A/Users/busse/Bachelorarbeit/CICD-Pipeline-Gender-Recognition/data/dataprep_git.ipynb#W2sZmlsZQ%3D%3D?line=29'>30</a>\u001b[0m     df \u001b[39m=\u001b[39m pd\u001b[39m.\u001b[39mread_csv(path_to_csv_or_excel)\n\u001b[0;32m     <a href='vscode-notebook-cell:/c%3A/Users/busse/Bachelorarbeit/CICD-Pipeline-Gender-Recognition/data/dataprep_git.ipynb#W2sZmlsZQ%3D%3D?line=30'>31</a>\u001b[0m     df \u001b[39m=\u001b[39m df[column_image_paths_in_csv_excel]\u001b[39m.\u001b[39mstr\u001b[39m.\u001b[39mreplace()\n\u001b[0;32m     <a href='vscode-notebook-cell:/c%3A/Users/busse/Bachelorarbeit/CICD-Pipeline-Gender-Recognition/data/dataprep_git.ipynb#W2sZmlsZQ%3D%3D?line=32'>33</a>\u001b[0m \u001b[39mif\u001b[39;00m feauture_names_in_csv_excel \u001b[39m==\u001b[39m [\u001b[39m\"\u001b[39m\u001b[39m \u001b[39m\u001b[39m\"\u001b[39m]:\n",
      "File \u001b[1;32mc:\\Users\\busse\\anaconda3\\Lib\\site-packages\\pandas\\io\\parsers\\readers.py:948\u001b[0m, in \u001b[0;36mread_csv\u001b[1;34m(filepath_or_buffer, sep, delimiter, header, names, index_col, usecols, dtype, engine, converters, true_values, false_values, skipinitialspace, skiprows, skipfooter, nrows, na_values, keep_default_na, na_filter, verbose, skip_blank_lines, parse_dates, infer_datetime_format, keep_date_col, date_parser, date_format, dayfirst, cache_dates, iterator, chunksize, compression, thousands, decimal, lineterminator, quotechar, quoting, doublequote, escapechar, comment, encoding, encoding_errors, dialect, on_bad_lines, delim_whitespace, low_memory, memory_map, float_precision, storage_options, dtype_backend)\u001b[0m\n\u001b[0;32m    935\u001b[0m kwds_defaults \u001b[39m=\u001b[39m _refine_defaults_read(\n\u001b[0;32m    936\u001b[0m     dialect,\n\u001b[0;32m    937\u001b[0m     delimiter,\n\u001b[1;32m   (...)\u001b[0m\n\u001b[0;32m    944\u001b[0m     dtype_backend\u001b[39m=\u001b[39mdtype_backend,\n\u001b[0;32m    945\u001b[0m )\n\u001b[0;32m    946\u001b[0m kwds\u001b[39m.\u001b[39mupdate(kwds_defaults)\n\u001b[1;32m--> 948\u001b[0m \u001b[39mreturn\u001b[39;00m _read(filepath_or_buffer, kwds)\n",
      "File \u001b[1;32mc:\\Users\\busse\\anaconda3\\Lib\\site-packages\\pandas\\io\\parsers\\readers.py:611\u001b[0m, in \u001b[0;36m_read\u001b[1;34m(filepath_or_buffer, kwds)\u001b[0m\n\u001b[0;32m    608\u001b[0m _validate_names(kwds\u001b[39m.\u001b[39mget(\u001b[39m\"\u001b[39m\u001b[39mnames\u001b[39m\u001b[39m\"\u001b[39m, \u001b[39mNone\u001b[39;00m))\n\u001b[0;32m    610\u001b[0m \u001b[39m# Create the parser.\u001b[39;00m\n\u001b[1;32m--> 611\u001b[0m parser \u001b[39m=\u001b[39m TextFileReader(filepath_or_buffer, \u001b[39m*\u001b[39m\u001b[39m*\u001b[39mkwds)\n\u001b[0;32m    613\u001b[0m \u001b[39mif\u001b[39;00m chunksize \u001b[39mor\u001b[39;00m iterator:\n\u001b[0;32m    614\u001b[0m     \u001b[39mreturn\u001b[39;00m parser\n",
      "File \u001b[1;32mc:\\Users\\busse\\anaconda3\\Lib\\site-packages\\pandas\\io\\parsers\\readers.py:1448\u001b[0m, in \u001b[0;36mTextFileReader.__init__\u001b[1;34m(self, f, engine, **kwds)\u001b[0m\n\u001b[0;32m   1445\u001b[0m     \u001b[39mself\u001b[39m\u001b[39m.\u001b[39moptions[\u001b[39m\"\u001b[39m\u001b[39mhas_index_names\u001b[39m\u001b[39m\"\u001b[39m] \u001b[39m=\u001b[39m kwds[\u001b[39m\"\u001b[39m\u001b[39mhas_index_names\u001b[39m\u001b[39m\"\u001b[39m]\n\u001b[0;32m   1447\u001b[0m \u001b[39mself\u001b[39m\u001b[39m.\u001b[39mhandles: IOHandles \u001b[39m|\u001b[39m \u001b[39mNone\u001b[39;00m \u001b[39m=\u001b[39m \u001b[39mNone\u001b[39;00m\n\u001b[1;32m-> 1448\u001b[0m \u001b[39mself\u001b[39m\u001b[39m.\u001b[39m_engine \u001b[39m=\u001b[39m \u001b[39mself\u001b[39m\u001b[39m.\u001b[39m_make_engine(f, \u001b[39mself\u001b[39m\u001b[39m.\u001b[39mengine)\n",
      "File \u001b[1;32mc:\\Users\\busse\\anaconda3\\Lib\\site-packages\\pandas\\io\\parsers\\readers.py:1705\u001b[0m, in \u001b[0;36mTextFileReader._make_engine\u001b[1;34m(self, f, engine)\u001b[0m\n\u001b[0;32m   1703\u001b[0m     \u001b[39mif\u001b[39;00m \u001b[39m\"\u001b[39m\u001b[39mb\u001b[39m\u001b[39m\"\u001b[39m \u001b[39mnot\u001b[39;00m \u001b[39min\u001b[39;00m mode:\n\u001b[0;32m   1704\u001b[0m         mode \u001b[39m+\u001b[39m\u001b[39m=\u001b[39m \u001b[39m\"\u001b[39m\u001b[39mb\u001b[39m\u001b[39m\"\u001b[39m\n\u001b[1;32m-> 1705\u001b[0m \u001b[39mself\u001b[39m\u001b[39m.\u001b[39mhandles \u001b[39m=\u001b[39m get_handle(\n\u001b[0;32m   1706\u001b[0m     f,\n\u001b[0;32m   1707\u001b[0m     mode,\n\u001b[0;32m   1708\u001b[0m     encoding\u001b[39m=\u001b[39m\u001b[39mself\u001b[39m\u001b[39m.\u001b[39moptions\u001b[39m.\u001b[39mget(\u001b[39m\"\u001b[39m\u001b[39mencoding\u001b[39m\u001b[39m\"\u001b[39m, \u001b[39mNone\u001b[39;00m),\n\u001b[0;32m   1709\u001b[0m     compression\u001b[39m=\u001b[39m\u001b[39mself\u001b[39m\u001b[39m.\u001b[39moptions\u001b[39m.\u001b[39mget(\u001b[39m\"\u001b[39m\u001b[39mcompression\u001b[39m\u001b[39m\"\u001b[39m, \u001b[39mNone\u001b[39;00m),\n\u001b[0;32m   1710\u001b[0m     memory_map\u001b[39m=\u001b[39m\u001b[39mself\u001b[39m\u001b[39m.\u001b[39moptions\u001b[39m.\u001b[39mget(\u001b[39m\"\u001b[39m\u001b[39mmemory_map\u001b[39m\u001b[39m\"\u001b[39m, \u001b[39mFalse\u001b[39;00m),\n\u001b[0;32m   1711\u001b[0m     is_text\u001b[39m=\u001b[39mis_text,\n\u001b[0;32m   1712\u001b[0m     errors\u001b[39m=\u001b[39m\u001b[39mself\u001b[39m\u001b[39m.\u001b[39moptions\u001b[39m.\u001b[39mget(\u001b[39m\"\u001b[39m\u001b[39mencoding_errors\u001b[39m\u001b[39m\"\u001b[39m, \u001b[39m\"\u001b[39m\u001b[39mstrict\u001b[39m\u001b[39m\"\u001b[39m),\n\u001b[0;32m   1713\u001b[0m     storage_options\u001b[39m=\u001b[39m\u001b[39mself\u001b[39m\u001b[39m.\u001b[39moptions\u001b[39m.\u001b[39mget(\u001b[39m\"\u001b[39m\u001b[39mstorage_options\u001b[39m\u001b[39m\"\u001b[39m, \u001b[39mNone\u001b[39;00m),\n\u001b[0;32m   1714\u001b[0m )\n\u001b[0;32m   1715\u001b[0m \u001b[39massert\u001b[39;00m \u001b[39mself\u001b[39m\u001b[39m.\u001b[39mhandles \u001b[39mis\u001b[39;00m \u001b[39mnot\u001b[39;00m \u001b[39mNone\u001b[39;00m\n\u001b[0;32m   1716\u001b[0m f \u001b[39m=\u001b[39m \u001b[39mself\u001b[39m\u001b[39m.\u001b[39mhandles\u001b[39m.\u001b[39mhandle\n",
      "File \u001b[1;32mc:\\Users\\busse\\anaconda3\\Lib\\site-packages\\pandas\\io\\common.py:863\u001b[0m, in \u001b[0;36mget_handle\u001b[1;34m(path_or_buf, mode, encoding, compression, memory_map, is_text, errors, storage_options)\u001b[0m\n\u001b[0;32m    858\u001b[0m \u001b[39melif\u001b[39;00m \u001b[39misinstance\u001b[39m(handle, \u001b[39mstr\u001b[39m):\n\u001b[0;32m    859\u001b[0m     \u001b[39m# Check whether the filename is to be opened in binary mode.\u001b[39;00m\n\u001b[0;32m    860\u001b[0m     \u001b[39m# Binary mode does not support 'encoding' and 'newline'.\u001b[39;00m\n\u001b[0;32m    861\u001b[0m     \u001b[39mif\u001b[39;00m ioargs\u001b[39m.\u001b[39mencoding \u001b[39mand\u001b[39;00m \u001b[39m\"\u001b[39m\u001b[39mb\u001b[39m\u001b[39m\"\u001b[39m \u001b[39mnot\u001b[39;00m \u001b[39min\u001b[39;00m ioargs\u001b[39m.\u001b[39mmode:\n\u001b[0;32m    862\u001b[0m         \u001b[39m# Encoding\u001b[39;00m\n\u001b[1;32m--> 863\u001b[0m         handle \u001b[39m=\u001b[39m \u001b[39mopen\u001b[39m(\n\u001b[0;32m    864\u001b[0m             handle,\n\u001b[0;32m    865\u001b[0m             ioargs\u001b[39m.\u001b[39mmode,\n\u001b[0;32m    866\u001b[0m             encoding\u001b[39m=\u001b[39mioargs\u001b[39m.\u001b[39mencoding,\n\u001b[0;32m    867\u001b[0m             errors\u001b[39m=\u001b[39merrors,\n\u001b[0;32m    868\u001b[0m             newline\u001b[39m=\u001b[39m\u001b[39m\"\u001b[39m\u001b[39m\"\u001b[39m,\n\u001b[0;32m    869\u001b[0m         )\n\u001b[0;32m    870\u001b[0m     \u001b[39melse\u001b[39;00m:\n\u001b[0;32m    871\u001b[0m         \u001b[39m# Binary mode\u001b[39;00m\n\u001b[0;32m    872\u001b[0m         handle \u001b[39m=\u001b[39m \u001b[39mopen\u001b[39m(handle, ioargs\u001b[39m.\u001b[39mmode)\n",
      "\u001b[1;31mFileNotFoundError\u001b[0m: [Errno 2] No such file or directory: 'default.csv'"
     ]
    }
   ],
   "source": [
    "def setDestionationFolder(source_folder, destination_folder,column_image_paths_in_csv_excel =\" \",directories_feature=[\"train_women\",\"train_men\"],feauture_names_in_csv_excel=[\" \"],path_to_csv_or_excel =\"default.csv\"):\n",
    "    df = pd.DataFrame()\n",
    "\n",
    "   \n",
    "    \n",
    "    if not os.path.exists(source_folder):\n",
    "        raise ValueError(\"Source folder does not exist\")\n",
    "    \n",
    "    if not os.path.exists(destination_folder):\n",
    "        raise ValueError(\"Destination folder does not exist\")\n",
    "    \n",
    "    if os.listdir(source_folder) == []:\n",
    "        raise ValueError(\"Source folder is empty\")\n",
    "\n",
    "    if os.listdir(destination_folder) == []:\n",
    "        raise ValueError(\"Destination folder is empty\")\n",
    "    \n",
    "    if path_to_csv_or_excel == path_to_csv_or_excel.endswith(\".csv\"):\n",
    "        os.makedirs(source_folder+\"/\"+\"default.csv\")\n",
    "    elif path_to_csv_or_excel == path_to_csv_or_excel.endswith(\".xlsx\"):\n",
    "        os.makedirs(source_folder+\"/\"+\"default.xlsx\")    \n",
    "    \n",
    "    for directory in directories_feature:\n",
    "        if not os.path.exists(destination_folder+\"/\"+directory):\n",
    "            os.makedirs(destination_folder+\"/\"+directory)\n",
    "\n",
    "    if column_image_paths_in_csv_excel == \" \":\n",
    "        raise ValueError(\"Set path of images in csv or excel file\")\n",
    "    else:\n",
    "        df = pd.read_csv(path_to_csv_or_excel)\n",
    "        df = df[column_image_paths_in_csv_excel].str.replace()\n",
    "\n",
    "    if feauture_names_in_csv_excel == [\" \"]:\n",
    "        raise ValueError(\"Feature names are not set\")\n",
    "    else: \n",
    "        df = df.loc[:,feauture_names_in_csv_excel]\n",
    "        \n",
    "    \n",
    "\n",
    "\n",
    "    \n",
    "    \n",
    "setDestionationFolder(source_folder, destination_folder,\"image_id\")\n",
    "\n",
    "\n"
   ]
  },
  {
   "cell_type": "code",
   "execution_count": 38,
   "metadata": {},
   "outputs": [],
   "source": [
    "def setUpTrainDataForWomenMen(source_folder,men_destination_folder,women_destination_folder,label_for_men=1, label_for_women=0):\n",
    "    if not os.path.exists(source_folder):\n",
    "        raise ValueError(\"Source folder does not exist\")\n",
    "    if not os.path.exists(men_destination_folder):\n",
    "        raise ValueError(\"Destination folder for men not exist\") \n",
    "    if not os.path.exists(women_destination_folder):\n",
    "        raise ValueError(\"Destination folder for women does not exist\")\n",
    "\n",
    "setUpTrainDataForWomenMen(source_folder=source_folder,men_destination_folder=r\"C:\\Users\\busse\\Bachelorarbeit\\CICD-Pipeline-Gender-Recognition\\data\\data\\destination\\train_men\",women_destination_folder=r\"C:\\Users\\busse\\Bachelorarbeit\\CICD-Pipeline-Gender-Recognition\\data\\data\\destination\\train_women\")"
   ]
  },
  {
   "cell_type": "code",
   "execution_count": null,
   "metadata": {},
   "outputs": [],
   "source": [
    "def extractWomenAndMenDatasetsToDestinationFolder(source_folder_image_folder,women_image_dir,men_image_dir,dataset_file, colum_of_label_in_dataset_file_women_or_men =\"Male\", column_image_paths_in_csv_excel =\"image_id\"):\n",
    "    df = pd.DataFrame()\n",
    "    \n",
    "\n",
    "    if not os.path.exists(source_folder_image_folder):\n",
    "        raise ValueError(f'{source_folder_image_folder} does not exist')\n",
    "\n",
    "    if dataset_file.endswith(\".csv\"):\n",
    "        df = dataset_file.read_csv(dataset_file)\n",
    "    elif dataset_file.endswith(\".xlsx\"):\n",
    "        df = dataset_file.read_excel(dataset_file)\n",
    "\n",
    "\n",
    "    for label in df[colum_of_label_in_dataset_file_women_or_men]:\n",
    "        if label == 0:\n",
    "            \n",
    "\n",
    "\n",
    "\n"
   ]
  },
  {
   "cell_type": "code",
   "execution_count": 39,
   "metadata": {},
   "outputs": [],
   "source": [
    "\n",
    "def prepend_path(row,add_path):\n",
    "    return os.path.join(add_path, row)\n",
    "\n",
    "\n",
    "def setUpImagePaths(image_source_path,destination_dir,csv_or_excel_file, column_of_image_id=\"image_id\",image_format=\".jpg\",gender_label=\"Male\"):\n",
    "    df = pd.DataFrame()\n",
    "\n",
    "    if not os.path.exists(destination_dir):\n",
    "        raise ValueError(\"Destination folder does not exist\")\n",
    "    \n",
    "    if csv_or_excel_file.endswith(\".csv\"):\n",
    "        df = pd.read_csv(csv_or_excel_file)\n",
    "        for index, row in df.iterrows():\n",
    "        # If the label is 0, move the image to the women directory\n",
    "            if row[gender_label] == 0:\n",
    "                # Construct the source and destination paths\n",
    "                src_path = row[column_of_image_id]\n",
    "                dst_path = os.path.join(destination_dir, os.path.basename(src_path))\n",
    "                \n",
    "                # Move the file\n",
    "                shutil.move(src_path, dst_path)    \n",
    "    elif csv_or_excel_file.endswith(\".xlsx\"):\n",
    "        df = pd.read_excel(csv_or_excel_file)\n",
    "\n",
    "\n",
    "\n",
    "\n",
    "\n",
    "\n",
    "\n",
    "\n",
    "\n",
    "\n"
   ]
  },
  {
   "cell_type": "code",
   "execution_count": null,
   "metadata": {},
   "outputs": [],
   "source": [
    "def extractPathsFromImagePath(BASE_DIR):\n",
    "    image_paths = []\n",
    "    image_filenames = os.listdir(BASE_DIR)\n",
    "\n",
    "    for image in tqdm(image_filenames):\n",
    "        image_path = os.path.join(BASE_DIR, image)\n",
    "        image_paths.append(image_path)\n",
    "\n",
    "    return image_paths\n",
    "\n",
    "\n",
    "def matchImagePathsToLabels(image_paths, label_column_gender,file_csv):\n",
    "    df = pd.DataFrame()\n",
    "    if file_csv_or_excel.endswith(\".csv\"):\n",
    "        df = pd.read_csv(file_csv_or_excel)\n",
    "        df[label_column_gender] = df[label_column_gender].str.replace(-1, 0)\n",
    "        df.to_csv(file_csv_or_excel, index=False)\n",
    "\n",
    " \n",
    "\n",
    "\n",
    "\n",
    "matchImagePathsToLabels(extractPathsFromImagePath())\n",
    "\n"
   ]
  }
 ],
 "metadata": {
  "kernelspec": {
   "display_name": "base",
   "language": "python",
   "name": "python3"
  },
  "language_info": {
   "codemirror_mode": {
    "name": "ipython",
    "version": 3
   },
   "file_extension": ".py",
   "mimetype": "text/x-python",
   "name": "python",
   "nbconvert_exporter": "python",
   "pygments_lexer": "ipython3",
   "version": "3.11.5"
  }
 },
 "nbformat": 4,
 "nbformat_minor": 2
}
